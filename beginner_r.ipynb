{
  "cells": [
    {
      "metadata": {
        "collapsed": true
      },
      "cell_type": "markdown",
      "source": "# Case Study 4.1 - Movies"
    },
    {
      "metadata": {},
      "cell_type": "markdown",
      "source": "<h1 style=\"color:red;\">Note: If you close this notebook at any time, you will have to run all cells again upon re-opening it.</h1>\n\n<h1 style=\"color:red;\">Note: You may get different numerical results running the notebook different times. This is to be expected, you can just report whatever results you get.</h1>"
    },
    {
      "metadata": {},
      "cell_type": "markdown",
      "source": "# BEGINNER R"
    },
    {
      "metadata": {},
      "cell_type": "markdown",
      "source": "As this is a beginner version, we include a lot of code here to help you along the way.\n\n**First, fill in your identification information below. Then, you only have to type in the answers to the questions we ask you. For the rest of the cells, just Run them by pressing the \"Run\" button above.**"
    },
    {
      "metadata": {},
      "cell_type": "markdown",
      "source": "# Identification Information"
    },
    {
      "metadata": {
        "trusted": true
      },
      "cell_type": "code",
      "source": "# YOUR NAME              = ...\n# YOUR MITX PRO USERNAME = ...\n# YOUR MITX PRO E-MAIL   = ...",
      "execution_count": 1,
      "outputs": []
    },
    {
      "metadata": {},
      "cell_type": "markdown",
      "source": "# Setup"
    },
    {
      "metadata": {},
      "cell_type": "markdown",
      "source": "Run these cells to install all the packages you need to complete the remainder of the case study. This may take a few minutes, so please be patient.\n\nIf you see red messages, don't worry! See [**this FAQ**](https://courses.edx.org/asset-v1:MITxPRO+DSx+2T2018+type@asset+block@4.1_instruction_manual.html#red)."
    },
    {
      "metadata": {
        "trusted": true
      },
      "cell_type": "code",
      "source": "install.packages('recommenderlab')\nprint('Installation successful!')",
      "execution_count": 2,
      "outputs": [
        {
          "output_type": "stream",
          "text": "Installing package into ‘/home/nbuser/R’\n(as ‘lib’ is unspecified)\nalso installing the dependencies ‘irlba’, ‘recosystem’\n\n",
          "name": "stderr"
        },
        {
          "output_type": "stream",
          "text": "[1] \"Installation successful!\"\n",
          "name": "stdout"
        }
      ]
    },
    {
      "metadata": {},
      "cell_type": "markdown",
      "source": "# Import"
    },
    {
      "metadata": {},
      "cell_type": "markdown",
      "source": "Import the required tools into the notebook."
    },
    {
      "metadata": {
        "trusted": true
      },
      "cell_type": "code",
      "source": "library('recommenderlab')\nprint('Import successful!')",
      "execution_count": 3,
      "outputs": [
        {
          "output_type": "stream",
          "text": "Loading required package: Matrix\nLoading required package: arules\n\nAttaching package: ‘arules’\n\nThe following objects are masked from ‘package:base’:\n\n    abbreviate, write\n\nLoading required package: proxy\n\nAttaching package: ‘proxy’\n\nThe following object is masked from ‘package:Matrix’:\n\n    as.matrix\n\nThe following objects are masked from ‘package:stats’:\n\n    as.dist, dist\n\nThe following object is masked from ‘package:base’:\n\n    as.matrix\n\nLoading required package: registry\n",
          "name": "stderr"
        },
        {
          "output_type": "stream",
          "text": "[1] \"Import successful!\"\n",
          "name": "stdout"
        }
      ]
    },
    {
      "metadata": {},
      "cell_type": "markdown",
      "source": "# Data"
    },
    {
      "metadata": {},
      "cell_type": "markdown",
      "source": "Load the MovieLens data."
    },
    {
      "metadata": {
        "trusted": true
      },
      "cell_type": "code",
      "source": "data = read.table('u.data.txt')\ncolnames(data) = c(\"user_id\", \"item_id\", \"rating\", \"timestamp\")\ndata = data[ , -which(names(data) %in% c(\"timestamp\"))]\nprint('Data loading successful!')",
      "execution_count": 4,
      "outputs": [
        {
          "output_type": "stream",
          "text": "[1] \"Data loading successful!\"\n",
          "name": "stdout"
        }
      ]
    },
    {
      "metadata": {},
      "cell_type": "markdown",
      "source": "We also want to get a sense of what the data looks like. Let's create a histogram of all the ratings we have in the dataset."
    },
    {
      "metadata": {
        "trusted": true
      },
      "cell_type": "code",
      "source": "print(nrow(data))",
      "execution_count": 5,
      "outputs": [
        {
          "output_type": "stream",
          "text": "[1] 100000\n",
          "name": "stdout"
        }
      ]
    },
    {
      "metadata": {
        "trusted": true
      },
      "cell_type": "code",
      "source": "hist(data$rating)\nprint('Histogram generation successful!')",
      "execution_count": 6,
      "outputs": [
        {
          "output_type": "stream",
          "text": "[1] \"Histogram generation successful!\"\n",
          "name": "stdout"
        },
        {
          "output_type": "display_data",
          "data": {
            "image/png": "",
            "image/jpeg": "[encoded data removed]",
            "image/svg+xml": "<?xml version=\"1.0\" encoding=\"UTF-8\"?>\n<svg xmlns=\"http://www.w3.org/2000/svg\" xmlns:xlink=\"http://www.w3.org/1999/xlink\" width=\"288pt\" height=\"216pt\" viewBox=\"0 0 288 216\" version=\"1.1\">\n<defs>\n<g>\n<symbol overflow=\"visible\" id=\"glyph0-0\">\n<path style=\"stroke:none;\" d=\"\"/>\n</symbol>\n<symbol overflow=\"visible\" id=\"glyph0-1\">\n<path style=\"stroke:none;\" d=\"M 9.84375 -0.140625 L 9.84375 -11.140625 L 7.5 -11.140625 L 7.5 -7.0625 L 3.296875 -7.0625 L 3.296875 -11.140625 L 0.953125 -11.140625 L 0.953125 0 L 3.296875 0 L 3.296875 -4.9375 L 7.5 -4.9375 L 7.5 0 L 9.84375 0 Z M 9.84375 -0.140625 \"/>\n</symbol>\n<symbol overflow=\"visible\" id=\"glyph0-2\">\n<path style=\"stroke:none;\" d=\"M 3.125 -0.140625 L 3.125 -8.3125 L 0.9375 -8.3125 L 0.9375 0 L 3.125 0 Z M 3.15625 -9.15625 L 3.15625 -11.375 L 0.96875 -11.375 L 0.96875 -9.015625 L 3.15625 -9.015625 Z M 3.15625 -9.15625 \"/>\n</symbol>\n<symbol overflow=\"visible\" id=\"glyph0-3\">\n<path style=\"stroke:none;\" d=\"M 7.796875 -2.515625 L 7.796875 -2.625 C 7.796875 -3.546875 7.234375 -4.375 6.171875 -4.6875 L 3.53125 -5.4375 C 2.953125 -5.609375 2.84375 -5.609375 2.84375 -5.9375 C 2.84375 -6.375 3.28125 -6.546875 4.015625 -6.546875 C 5.015625 -6.546875 5.4375 -6.3125 5.453125 -5.453125 L 7.578125 -5.453125 C 7.546875 -7.296875 6.1875 -8.453125 4.03125 -8.453125 C 1.984375 -8.453125 0.65625 -7.296875 0.65625 -5.640625 C 0.65625 -4.65625 0.984375 -3.984375 2.46875 -3.515625 L 4.96875 -2.75 C 5.484375 -2.578125 5.609375 -2.546875 5.609375 -2.328125 C 5.609375 -1.828125 5.078125 -1.78125 4.109375 -1.78125 C 3.15625 -1.78125 2.703125 -1.8125 2.484375 -2.8125 L 0.375 -2.8125 C 0.4375 -0.921875 1.78125 0.140625 4.234375 0.140625 C 6.5 0.140625 7.796875 -0.890625 7.796875 -2.515625 Z M 7.796875 -2.515625 \"/>\n</symbol>\n<symbol overflow=\"visible\" id=\"glyph0-4\">\n<path style=\"stroke:none;\" d=\"M 4.53125 -0.140625 L 4.53125 -1.734375 C 4.28125 -1.703125 4.15625 -1.6875 4.015625 -1.6875 C 3.453125 -1.6875 3.375 -1.71875 3.375 -2.4375 L 3.375 -6.5 L 4.53125 -6.5 L 4.53125 -8.15625 L 3.375 -8.15625 L 3.375 -10.3125 L 1.171875 -10.3125 L 1.171875 -8.15625 L 0.15625 -8.15625 L 0.15625 -6.5 L 1.171875 -6.5 L 1.171875 -1.859375 C 1.171875 -0.59375 1.90625 0.0625 3.28125 0.0625 C 3.734375 0.0625 4.109375 0.015625 4.53125 0 Z M 4.53125 -0.140625 \"/>\n</symbol>\n<symbol overflow=\"visible\" id=\"glyph0-5\">\n<path style=\"stroke:none;\" d=\"M 8.53125 -4.09375 C 8.53125 -6.828125 7 -8.453125 4.484375 -8.453125 C 2.03125 -8.453125 0.46875 -6.796875 0.46875 -4.15625 C 0.46875 -1.5 2.03125 0.140625 4.5 0.140625 C 6.953125 0.140625 8.53125 -1.515625 8.53125 -4.09375 Z M 6.328125 -4.125 C 6.328125 -2.625 5.625 -1.8125 4.5 -1.8125 C 3.375 -1.8125 2.65625 -2.625 2.65625 -4.15625 C 2.65625 -5.6875 3.375 -6.5 4.5 -6.5 C 5.65625 -6.5 6.328125 -5.703125 6.328125 -4.125 Z M 6.328125 -4.125 \"/>\n</symbol>\n<symbol overflow=\"visible\" id=\"glyph0-6\">\n<path style=\"stroke:none;\" d=\"M 8.109375 0.140625 L 8.109375 -8.3125 L 6.015625 -8.3125 L 6.015625 -7.15625 C 5.484375 -7.984375 4.765625 -8.453125 3.84375 -8.453125 C 1.9375 -8.453125 0.453125 -6.5625 0.453125 -4.0625 C 0.453125 -1.5625 1.8125 0.140625 3.796875 0.140625 C 4.734375 0.140625 5.34375 -0.171875 6.015625 -0.875 L 6.015625 0.140625 C 6.015625 1.109375 5.34375 1.640625 4.3125 1.640625 C 3.515625 1.640625 3.046875 1.453125 2.828125 0.703125 L 0.609375 0.703125 C 0.640625 2.140625 2.03125 3.25 4.234375 3.25 C 6.65625 3.25 8.109375 2.03125 8.109375 0.140625 Z M 6.046875 -4.09375 C 6.046875 -2.640625 5.34375 -1.875 4.265625 -1.875 C 3.28125 -1.875 2.640625 -2.640625 2.640625 -4.09375 C 2.640625 -5.625 3.28125 -6.4375 4.296875 -6.4375 C 5.34375 -6.4375 6.046875 -5.59375 6.046875 -4.09375 Z M 6.046875 -4.09375 \"/>\n</symbol>\n<symbol overflow=\"visible\" id=\"glyph0-7\">\n<path style=\"stroke:none;\" d=\"M 5.5625 -6.1875 L 5.5625 -8.421875 C 5.390625 -8.453125 5.328125 -8.453125 5.265625 -8.453125 C 4.3125 -8.453125 3.40625 -7.6875 3.078125 -6.828125 L 3.078125 -8.3125 L 0.875 -8.3125 L 0.875 0 L 3.078125 0 L 3.078125 -4.40625 C 3.078125 -5.640625 3.640625 -6.109375 4.859375 -6.109375 C 5.078125 -6.109375 5.234375 -6.09375 5.5625 -6.03125 Z M 5.5625 -6.1875 \"/>\n</symbol>\n<symbol overflow=\"visible\" id=\"glyph0-8\">\n<path style=\"stroke:none;\" d=\"M 7.859375 -0.140625 L 7.859375 -0.46875 C 7.46875 -0.8125 7.375 -0.953125 7.375 -1.375 L 7.375 -5.84375 C 7.375 -7.484375 6.21875 -8.453125 4.046875 -8.453125 C 1.859375 -8.453125 0.671875 -7.390625 0.53125 -5.390625 L 2.640625 -5.390625 C 2.75 -6.359375 3.0625 -6.5 4.078125 -6.5 C 4.890625 -6.5 5.234375 -6.359375 5.234375 -5.828125 C 5.234375 -4.984375 4.671875 -5.203125 3.625 -5.015625 L 2.78125 -4.875 C 1.1875 -4.59375 0.359375 -3.765625 0.359375 -2.3125 C 0.359375 -0.75 1.515625 0.140625 2.859375 0.140625 C 3.75 0.140625 4.609375 -0.28125 5.25 -0.96875 C 5.25 -0.734375 5.3125 -0.265625 5.53125 0 L 7.859375 0 Z M 5.234375 -3.578125 C 5.234375 -2.375 4.703125 -1.8125 3.640625 -1.8125 C 2.9375 -1.8125 2.546875 -1.953125 2.546875 -2.546875 C 2.546875 -3.15625 2.828125 -3.25 3.703125 -3.40625 L 4.40625 -3.546875 C 4.96875 -3.65625 5.078125 -3.71875 5.234375 -3.796875 Z M 5.234375 -3.578125 \"/>\n</symbol>\n<symbol overflow=\"visible\" id=\"glyph0-9\">\n<path style=\"stroke:none;\" d=\"M 12.328125 -0.140625 L 12.328125 -5.828125 C 12.328125 -7.390625 11.328125 -8.453125 9.71875 -8.453125 C 8.703125 -8.453125 7.9375 -8.046875 7.359375 -7.28125 C 7 -7.96875 6.171875 -8.453125 5.171875 -8.453125 C 4.25 -8.453125 3.609375 -8.09375 3.015625 -7.375 L 3.015625 -8.3125 L 0.828125 -8.3125 L 0.828125 0 L 3.03125 0 L 3.03125 -4.96875 C 3.03125 -5.953125 3.515625 -6.40625 4.40625 -6.40625 C 5.109375 -6.40625 5.484375 -6.140625 5.484375 -5.5 L 5.484375 0 L 7.671875 0 L 7.671875 -4.96875 C 7.671875 -5.953125 8.171875 -6.40625 9.0625 -6.40625 C 9.765625 -6.40625 10.140625 -6.140625 10.140625 -5.5 L 10.140625 0 L 12.328125 0 Z M 12.328125 -0.140625 \"/>\n</symbol>\n<symbol overflow=\"visible\" id=\"glyph0-10\">\n<path style=\"stroke:none;\" d=\"\"/>\n</symbol>\n<symbol overflow=\"visible\" id=\"glyph0-11\">\n<path style=\"stroke:none;\" d=\"M 4.703125 -6.640625 L 4.703125 -8.15625 L 3.46875 -8.15625 L 3.46875 -8.8125 C 3.46875 -9.234375 3.609375 -9.296875 4 -9.296875 C 4.171875 -9.296875 4.40625 -9.28125 4.640625 -9.234375 L 4.640625 -11.09375 C 4.203125 -11.125 3.6875 -11.140625 3.40625 -11.140625 C 2.015625 -11.140625 1.28125 -10.34375 1.28125 -8.984375 L 1.28125 -8.15625 L 0.15625 -8.15625 L 0.15625 -6.5 L 1.28125 -6.5 L 1.28125 0 L 3.46875 0 L 3.46875 -6.5 L 4.703125 -6.5 Z M 4.703125 -6.640625 \"/>\n</symbol>\n<symbol overflow=\"visible\" id=\"glyph0-12\">\n<path style=\"stroke:none;\" d=\"M 8.171875 -0.140625 L 8.171875 -11.140625 L 5.984375 -11.140625 L 5.984375 -7.34375 C 5.546875 -8.03125 4.8125 -8.453125 3.8125 -8.453125 C 1.890625 -8.453125 0.375 -6.578125 0.375 -4.140625 C 0.375 -1.859375 1.6875 0.140625 3.8125 0.140625 C 4.8125 0.140625 5.546875 -0.265625 5.984375 -0.84375 L 5.984375 0 L 8.171875 0 Z M 5.984375 -4.109375 C 5.984375 -2.65625 5.328125 -1.875 4.28125 -1.875 C 3.234375 -1.875 2.5625 -2.671875 2.5625 -4.140625 C 2.5625 -5.640625 3.234375 -6.4375 4.28125 -6.4375 C 5.34375 -6.4375 5.984375 -5.65625 5.984375 -4.109375 Z M 5.984375 -4.109375 \"/>\n</symbol>\n<symbol overflow=\"visible\" id=\"glyph0-13\">\n<path style=\"stroke:none;\" d=\"M 7.90625 -3.046875 C 7.90625 -4.6875 6.953125 -5.6875 4.6875 -6.3125 L 4.6875 -9.046875 C 5.390625 -8.953125 5.734375 -8.46875 5.734375 -7.421875 L 7.75 -7.421875 C 7.75 -9.421875 6.515625 -10.734375 4.6875 -10.84375 L 4.6875 -11.640625 L 3.5625 -11.640625 L 3.5625 -10.84375 C 1.703125 -10.65625 0.515625 -9.4375 0.515625 -7.765625 C 0.515625 -6.109375 1.609375 -4.921875 3.5625 -4.453125 L 3.5625 -1.546875 C 2.78125 -1.703125 2.375 -2.171875 2.3125 -3.359375 L 0.265625 -3.359375 L 0.265625 -3.078125 C 0.265625 -2 0.734375 -1 1.5625 -0.40625 C 2.125 0 2.734375 0.21875 3.5625 0.3125 L 3.5625 1.875 L 4.6875 1.875 L 4.6875 0.3125 C 5.453125 0.21875 6.109375 -0.015625 6.609375 -0.328125 C 7.40625 -0.84375 7.90625 -1.921875 7.90625 -3.046875 Z M 3.625 -6.640625 C 2.78125 -6.90625 2.453125 -7.171875 2.453125 -7.828125 C 2.453125 -8.59375 2.796875 -8.90625 3.5625 -9.046875 L 3.5625 -6.640625 Z M 5.828125 -2.859375 C 5.828125 -2.109375 5.46875 -1.765625 4.6875 -1.5625 L 4.6875 -4.1875 C 5.46875 -3.953125 5.828125 -3.578125 5.828125 -2.859375 Z M 5.828125 -2.859375 \"/>\n</symbol>\n<symbol overflow=\"visible\" id=\"glyph0-14\">\n<path style=\"stroke:none;\" d=\"M 8.1875 -0.140625 L 8.1875 -5.53125 C 8.1875 -7.296875 7.15625 -8.453125 5.4375 -8.453125 C 4.359375 -8.453125 3.578125 -8 3.078125 -7.234375 L 3.078125 -8.3125 L 0.875 -8.3125 L 0.875 0 L 3.078125 0 L 3.078125 -4.96875 C 3.078125 -5.921875 3.703125 -6.40625 4.703125 -6.40625 C 5.609375 -6.40625 6 -6.046875 6 -5.09375 L 6 0 L 8.1875 0 Z M 8.1875 -0.140625 \"/>\n</symbol>\n<symbol overflow=\"visible\" id=\"glyph1-0\">\n<path style=\"stroke:none;\" d=\"\"/>\n</symbol>\n<symbol overflow=\"visible\" id=\"glyph1-1\">\n<path style=\"stroke:none;\" d=\"M 6.3125 -0.125 L 6.3125 -9.375 L 5.015625 -9.375 L 5.015625 -5.84375 L 5.234375 -5.9375 C 4.796875 -6.59375 4.015625 -7 3.140625 -7 C 1.4375 -7 0.1875 -5.546875 0.1875 -3.46875 C 0.1875 -1.25 1.40625 0.1875 3.171875 0.1875 C 4.078125 0.1875 4.78125 -0.1875 5.34375 -1 L 5.125 -1.09375 L 5.125 0 L 6.3125 0 Z M 5.015625 -3.375 C 5.015625 -1.859375 4.421875 -1.046875 3.328125 -1.046875 C 2.171875 -1.046875 1.53125 -1.875 1.53125 -3.40625 C 1.53125 -4.921875 2.171875 -5.765625 3.3125 -5.765625 C 4.4375 -5.765625 5.015625 -4.890625 5.015625 -3.375 Z M 5.015625 -3.375 \"/>\n</symbol>\n<symbol overflow=\"visible\" id=\"glyph1-2\">\n<path style=\"stroke:none;\" d=\"M 6.8125 -0.15625 L 6.8125 -1.09375 C 6.578125 -1.046875 6.53125 -1.046875 6.46875 -1.046875 C 6.09375 -1.046875 6.03125 -1.09375 6.03125 -1.421875 L 6.03125 -5.078125 C 6.03125 -6.234375 5.046875 -7 3.4375 -7 C 1.84375 -7 0.734375 -6.25 0.65625 -4.609375 L 1.96875 -4.609375 C 2.078125 -5.53125 2.421875 -5.78125 3.40625 -5.78125 C 4.34375 -5.78125 4.71875 -5.546875 4.71875 -4.921875 L 4.71875 -4.65625 C 4.71875 -4.21875 4.59375 -4.15625 3.78125 -4.0625 C 2.296875 -3.875 2.078125 -3.828125 1.671875 -3.65625 C 0.90625 -3.34375 0.390625 -2.625 0.390625 -1.828125 C 0.390625 -0.640625 1.34375 0.1875 2.671875 0.1875 C 3.515625 0.1875 4.40625 -0.203125 4.828125 -0.640625 C 4.875 -0.40625 5.46875 0.09375 5.96875 0.09375 C 6.1875 0.09375 6.34375 0.0625 6.8125 -0.046875 Z M 4.71875 -2.390625 C 4.71875 -1.453125 3.90625 -0.984375 2.90625 -0.984375 C 2.09375 -0.984375 1.734375 -1.140625 1.734375 -1.84375 C 1.734375 -2.53125 2.078125 -2.71875 3.1875 -2.875 C 4.28125 -3.03125 4.515625 -3.078125 4.71875 -3.171875 Z M 4.71875 -2.390625 \"/>\n</symbol>\n<symbol overflow=\"visible\" id=\"glyph1-3\">\n<path style=\"stroke:none;\" d=\"M 3.296875 -0.125 L 3.296875 -1.171875 C 3.03125 -1.09375 2.875 -1.09375 2.671875 -1.09375 C 2.21875 -1.09375 2.21875 -1.078125 2.21875 -1.53125 L 2.21875 -5.703125 L 3.296875 -5.703125 L 3.296875 -6.8125 L 2.21875 -6.8125 L 2.21875 -8.609375 L 0.921875 -8.609375 L 0.921875 -6.8125 L 0.03125 -6.8125 L 0.03125 -5.703125 L 0.921875 -5.703125 L 0.921875 -1.078125 C 0.921875 -0.40625 1.515625 0.09375 2.328125 0.09375 C 2.578125 0.09375 2.828125 0.0625 3.296875 -0.015625 Z M 3.296875 -0.125 \"/>\n</symbol>\n<symbol overflow=\"visible\" id=\"glyph1-4\">\n<path style=\"stroke:none;\" d=\"M 6.59375 -2.5625 C 6.59375 -3.453125 6.21875 -4.15625 5.5 -4.578125 C 5.171875 -4.765625 4.921875 -4.875 3.90625 -5.171875 L 3.90625 -8.0625 C 4.609375 -8.03125 5.0625 -7.53125 5.078125 -6.484375 L 6.328125 -6.484375 C 6.328125 -8.03125 5.28125 -9.09375 3.90625 -9.203125 L 3.90625 -9.890625 L 2.90625 -9.890625 L 2.90625 -9.1875 C 1.4375 -9.015625 0.4375 -8 0.4375 -6.578125 C 0.4375 -5.78125 0.78125 -5.09375 1.359375 -4.65625 C 1.6875 -4.421875 2.125 -4.25 2.90625 -4.015625 L 2.90625 -0.84375 C 2.484375 -0.90625 2.078125 -1.109375 1.796875 -1.5 C 1.59375 -1.78125 1.609375 -1.90625 1.515625 -2.859375 L 0.28125 -2.859375 C 0.28125 -2.65625 0.265625 -2.578125 0.265625 -2.515625 C 0.265625 -0.90625 1.34375 0.1875 2.90625 0.28125 L 2.90625 1.578125 L 3.90625 1.578125 L 3.90625 0.28125 C 5.53125 0.15625 6.59375 -0.984375 6.59375 -2.5625 Z M 3.03125 -5.328125 C 2.046875 -5.59375 1.71875 -5.9375 1.71875 -6.703125 C 1.71875 -7.53125 2.109375 -7.9375 2.90625 -8.03125 L 2.90625 -5.34375 Z M 5.3125 -2.40625 C 5.3125 -1.53125 4.890625 -0.96875 3.90625 -0.84375 L 3.90625 -3.8125 C 5.046875 -3.484375 5.3125 -3.234375 5.3125 -2.40625 Z M 5.3125 -2.40625 \"/>\n</symbol>\n<symbol overflow=\"visible\" id=\"glyph1-5\">\n<path style=\"stroke:none;\" d=\"M 4.140625 -5.765625 L 4.140625 -6.9375 C 3.84375 -6.984375 3.75 -7 3.609375 -7 C 2.9375 -7 2.328125 -6.546875 1.71875 -5.578125 L 1.953125 -5.484375 L 1.953125 -6.8125 L 0.734375 -6.8125 L 0.734375 0 L 2.03125 0 L 2.03125 -3.53125 C 2.03125 -5 2.40625 -5.609375 4.140625 -5.640625 Z M 4.140625 -5.765625 \"/>\n</symbol>\n<symbol overflow=\"visible\" id=\"glyph1-6\">\n<path style=\"stroke:none;\" d=\"M 2.03125 -0.125 L 2.03125 -6.8125 L 0.734375 -6.8125 L 0.734375 0 L 2.03125 0 Z M 2.171875 -7.65625 L 2.171875 -9.09375 L 0.609375 -9.09375 L 0.609375 -7.53125 L 2.171875 -7.53125 Z M 2.171875 -7.65625 \"/>\n</symbol>\n<symbol overflow=\"visible\" id=\"glyph1-7\">\n<path style=\"stroke:none;\" d=\"M 6.21875 -0.125 L 6.21875 -5.078125 C 6.21875 -6.15625 5.28125 -7 4.015625 -7 C 3.03125 -7 2.3125 -6.578125 1.734375 -5.65625 L 1.96875 -5.578125 L 1.96875 -6.8125 L 0.734375 -6.8125 L 0.734375 0 L 2.03125 0 L 2.03125 -3.734375 C 2.03125 -5.078125 2.640625 -5.828125 3.703125 -5.828125 C 4.53125 -5.828125 4.90625 -5.453125 4.90625 -4.65625 L 4.90625 0 L 6.21875 0 Z M 6.21875 -0.125 \"/>\n</symbol>\n<symbol overflow=\"visible\" id=\"glyph1-8\">\n<path style=\"stroke:none;\" d=\"M 6.234375 -1.203125 L 6.234375 -6.8125 L 5.015625 -6.8125 L 5.015625 -5.71875 L 5.234375 -5.8125 C 4.71875 -6.59375 3.984375 -7 3.15625 -7 C 1.484375 -7 0.21875 -5.46875 0.21875 -3.34375 C 0.21875 -1.28125 1.53125 0.1875 3.0625 0.1875 C 3.890625 0.1875 4.546875 -0.203125 5.234375 -1.03125 L 5.015625 -1.109375 L 5.015625 -0.671875 C 5.015625 1.0625 4.4375 1.59375 3.21875 1.59375 C 2.40625 1.59375 1.890625 1.421875 1.734375 0.484375 L 0.421875 0.484375 C 0.546875 1.859375 1.65625 2.71875 3.1875 2.71875 C 5.234375 2.71875 6.234375 1.6875 6.234375 -1.203125 Z M 4.90625 -3.359375 C 4.90625 -1.796875 4.375 -1.03125 3.28125 -1.03125 C 2.140625 -1.03125 1.578125 -1.8125 1.578125 -3.40625 C 1.578125 -4.96875 2.15625 -5.78125 3.265625 -5.78125 C 4.390625 -5.78125 4.90625 -4.953125 4.90625 -3.359375 Z M 4.90625 -3.359375 \"/>\n</symbol>\n<symbol overflow=\"visible\" id=\"glyph1-9\">\n<path style=\"stroke:none;\" d=\"M 4.46875 -0.125 L 4.46875 -9.125 L 3.515625 -9.125 C 3.09375 -7.625 2.96875 -7.578125 1.140625 -7.34375 L 1.140625 -6.3125 L 3.09375 -6.3125 L 3.09375 0 L 4.46875 0 Z M 4.46875 -0.125 \"/>\n</symbol>\n<symbol overflow=\"visible\" id=\"glyph1-10\">\n<path style=\"stroke:none;\" d=\"M 6.515625 -6.390625 C 6.515625 -7.890625 5.21875 -9.125 3.546875 -9.125 C 1.734375 -9.125 0.546875 -8.0625 0.484375 -5.78125 L 1.84375 -5.78125 C 1.9375 -7.40625 2.421875 -7.90625 3.515625 -7.90625 C 4.515625 -7.90625 5.125 -7.3125 5.125 -6.359375 C 5.125 -5.65625 4.75 -5.15625 3.96875 -4.703125 L 2.8125 -4.046875 C 0.96875 -3 0.390625 -2.078125 0.28125 0 L 6.453125 0 L 6.453125 -1.34375 L 1.8125 -1.34375 C 1.90625 -1.9375 2.265625 -2.3125 3.34375 -2.953125 L 4.59375 -3.625 C 5.84375 -4.28125 6.515625 -5.296875 6.515625 -6.390625 Z M 6.515625 -6.390625 \"/>\n</symbol>\n<symbol overflow=\"visible\" id=\"glyph1-11\">\n<path style=\"stroke:none;\" d=\"M 6.453125 -2.703125 C 6.453125 -3.78125 5.890625 -4.53125 4.828125 -4.90625 L 4.828125 -4.640625 C 5.65625 -4.96875 6.1875 -5.65625 6.1875 -6.546875 C 6.1875 -8.078125 5.046875 -9.125 3.359375 -9.125 C 1.578125 -9.125 0.484375 -8.015625 0.453125 -6 L 1.8125 -6 C 1.84375 -7.4375 2.25 -7.90625 3.375 -7.90625 C 4.34375 -7.90625 4.796875 -7.453125 4.796875 -6.515625 C 4.796875 -5.5625 4.53125 -5.3125 2.625 -5.3125 L 2.625 -4.125 L 3.359375 -4.125 C 4.578125 -4.125 5.0625 -3.671875 5.0625 -2.6875 C 5.0625 -1.578125 4.515625 -1.046875 3.359375 -1.046875 C 2.15625 -1.046875 1.703125 -1.515625 1.609375 -2.9375 L 0.25 -2.9375 C 0.40625 -0.828125 1.515625 0.1875 3.328125 0.1875 C 5.15625 0.1875 6.453125 -1.03125 6.453125 -2.703125 Z M 6.453125 -2.703125 \"/>\n</symbol>\n<symbol overflow=\"visible\" id=\"glyph1-12\">\n<path style=\"stroke:none;\" d=\"M 6.625 -2.25 L 6.625 -3.375 L 5.3125 -3.375 L 5.3125 -9.125 L 4.296875 -9.125 L 0.21875 -3.453125 L 0.21875 -2.125 L 3.953125 -2.125 L 3.953125 0 L 5.3125 0 L 5.3125 -2.125 L 6.625 -2.125 Z M 4.09375 -3.375 L 1.5625 -3.375 L 4.171875 -7.03125 L 3.953125 -7.109375 L 3.953125 -3.375 Z M 4.09375 -3.375 \"/>\n</symbol>\n<symbol overflow=\"visible\" id=\"glyph1-13\">\n<path style=\"stroke:none;\" d=\"M 6.53125 -3.0625 C 6.53125 -4.8125 5.25 -6.09375 3.546875 -6.09375 C 2.921875 -6.09375 2.328125 -5.890625 2.09375 -5.71875 L 2.359375 -7.59375 L 6.078125 -7.59375 L 6.078125 -8.9375 L 1.25 -8.9375 L 0.546875 -4.03125 L 1.78125 -4.03125 C 2.328125 -4.6875 2.65625 -4.859375 3.34375 -4.859375 C 4.53125 -4.859375 5.15625 -4.21875 5.15625 -2.90625 C 5.15625 -1.640625 4.546875 -1.046875 3.34375 -1.046875 C 2.390625 -1.046875 1.921875 -1.40625 1.625 -2.53125 L 0.28125 -2.53125 C 0.65625 -0.640625 1.796875 0.1875 3.375 0.1875 C 5.15625 0.1875 6.53125 -1.1875 6.53125 -3.0625 Z M 6.53125 -3.0625 \"/>\n</symbol>\n<symbol overflow=\"visible\" id=\"glyph2-0\">\n<path style=\"stroke:none;\" d=\"\"/>\n</symbol>\n<symbol overflow=\"visible\" id=\"glyph2-1\">\n<path style=\"stroke:none;\" d=\"M -8.21875 -7.359375 L -9.375 -7.359375 L -9.375 -0.984375 L 0 -0.984375 L 0 -2.40625 L -4.15625 -2.40625 L -4.15625 -6.765625 L -5.4375 -6.765625 L -5.4375 -2.40625 L -8.09375 -2.40625 L -8.09375 -7.359375 Z M -8.21875 -7.359375 \"/>\n</symbol>\n<symbol overflow=\"visible\" id=\"glyph2-2\">\n<path style=\"stroke:none;\" d=\"M -5.765625 -4.140625 L -6.9375 -4.140625 C -6.984375 -3.84375 -7 -3.75 -7 -3.609375 C -7 -2.9375 -6.546875 -2.328125 -5.578125 -1.71875 L -5.484375 -1.953125 L -6.8125 -1.953125 L -6.8125 -0.734375 L 0 -0.734375 L 0 -2.03125 L -3.53125 -2.03125 C -5 -2.03125 -5.609375 -2.40625 -5.640625 -4.140625 Z M -5.765625 -4.140625 \"/>\n</symbol>\n<symbol overflow=\"visible\" id=\"glyph2-3\">\n<path style=\"stroke:none;\" d=\"M -3.09375 -6.53125 C -4.046875 -6.53125 -4.65625 -6.46875 -5.140625 -6.28125 C -6.21875 -5.84375 -7 -4.71875 -7 -3.5 C -7 -1.671875 -5.515625 -0.359375 -3.359375 -0.359375 C -1.21875 -0.359375 0.1875 -1.640625 0.1875 -3.46875 C 0.1875 -4.96875 -0.78125 -6.140625 -2.25 -6.421875 L -2.25 -5.125 C -1.25 -4.796875 -1.03125 -4.34375 -1.03125 -3.515625 C -1.03125 -2.421875 -1.59375 -1.734375 -2.96875 -1.71875 L -2.96875 -6.53125 Z M -3.9375 -5.390625 C -3.9375 -5.390625 -4.0625 -5.203125 -4.09375 -5.21875 L -4.09375 -1.75 C -5.109375 -1.828125 -5.78125 -2.4375 -5.78125 -3.484375 C -5.78125 -4.515625 -5.046875 -5.15625 -4.03125 -5.15625 Z M -3.9375 -5.390625 \"/>\n</symbol>\n<symbol overflow=\"visible\" id=\"glyph2-4\">\n<path style=\"stroke:none;\" d=\"M 2.59375 -6.3125 L -6.8125 -6.3125 L -6.8125 -5.125 L -5.796875 -5.125 L -5.890625 -5.34375 C -6.578125 -4.859375 -7 -4.03125 -7 -3.171875 C -7 -1.453125 -5.5 -0.1875 -3.328125 -0.1875 C -1.203125 -0.1875 0.1875 -1.40625 0.1875 -3.125 C 0.1875 -4.03125 -0.171875 -4.75 -0.890625 -5.234375 L -0.96875 -5.015625 L 2.71875 -5.015625 L 2.71875 -6.3125 Z M -3.359375 -5.015625 C -1.859375 -5.015625 -1.046875 -4.421875 -1.046875 -3.328125 C -1.046875 -2.171875 -1.875 -1.53125 -3.40625 -1.53125 C -4.90625 -1.53125 -5.765625 -2.171875 -5.765625 -3.328125 C -5.765625 -4.4375 -4.890625 -5.015625 -3.359375 -5.015625 Z M -3.359375 -5.015625 \"/>\n</symbol>\n<symbol overflow=\"visible\" id=\"glyph2-5\">\n<path style=\"stroke:none;\" d=\"M -0.125 -6.15625 L -6.8125 -6.15625 L -6.8125 -4.84375 L -3.0625 -4.84375 C -1.71875 -4.84375 -0.984375 -4.28125 -0.984375 -3.203125 C -0.984375 -2.375 -1.34375 -1.96875 -2.140625 -1.96875 L -6.8125 -1.96875 L -6.8125 -0.671875 L -1.71875 -0.671875 C -0.640625 -0.671875 0.1875 -1.625 0.1875 -2.90625 C 0.1875 -3.859375 -0.1875 -4.5625 -1.046875 -5.171875 L -1.140625 -4.953125 L 0 -4.953125 L 0 -6.15625 Z M -0.125 -6.15625 \"/>\n</symbol>\n<symbol overflow=\"visible\" id=\"glyph2-6\">\n<path style=\"stroke:none;\" d=\"M -0.125 -6.21875 L -5.078125 -6.21875 C -6.15625 -6.21875 -7 -5.28125 -7 -4.015625 C -7 -3.03125 -6.578125 -2.3125 -5.65625 -1.734375 L -5.578125 -1.96875 L -6.8125 -1.96875 L -6.8125 -0.734375 L 0 -0.734375 L 0 -2.03125 L -3.734375 -2.03125 C -5.078125 -2.03125 -5.828125 -2.640625 -5.828125 -3.703125 C -5.828125 -4.53125 -5.453125 -4.90625 -4.65625 -4.90625 L 0 -4.90625 L 0 -6.21875 Z M -0.125 -6.21875 \"/>\n</symbol>\n<symbol overflow=\"visible\" id=\"glyph2-7\">\n<path style=\"stroke:none;\" d=\"M -2.515625 -5.96875 L -2.515625 -4.796875 C -1.328125 -4.59375 -1.03125 -4.203125 -1.03125 -3.3125 C -1.03125 -2.15625 -1.78125 -1.59375 -3.34375 -1.59375 C -4.96875 -1.59375 -5.78125 -2.15625 -5.78125 -3.28125 C -5.78125 -4.15625 -5.390625 -4.578125 -4.34375 -4.71875 L -4.34375 -6.03125 C -6.078125 -5.890625 -7 -4.765625 -7 -3.296875 C -7 -1.53125 -5.515625 -0.25 -3.34375 -0.25 C -1.21875 -0.25 0.1875 -1.515625 0.1875 -3.28125 C 0.1875 -4.84375 -0.875 -5.96875 -2.515625 -6.09375 Z M -2.515625 -5.96875 \"/>\n</symbol>\n<symbol overflow=\"visible\" id=\"glyph2-8\">\n<path style=\"stroke:none;\" d=\"M -6.8125 -5.96875 L -6.8125 -4.765625 L -1.578125 -2.90625 L -1.578125 -3.15625 L -6.8125 -1.453125 L -6.8125 -0.0625 L -0.09375 -2.328125 L 0.9375 -1.921875 C 1.40625 -1.75 1.4375 -1.671875 1.4375 -1.21875 C 1.4375 -1.078125 1.40625 -0.90625 1.34375 -0.53125 L 2.515625 -0.53125 C 2.640625 -0.78125 2.71875 -1.09375 2.71875 -1.375 C 2.71875 -2.109375 2.1875 -2.84375 1.25 -3.1875 L -6.8125 -6.15625 Z M -6.8125 -5.96875 \"/>\n</symbol>\n<symbol overflow=\"visible\" id=\"glyph2-9\">\n<path style=\"stroke:none;\" d=\"M -4.390625 -6.46875 C -7.46875 -6.46875 -9.125 -5.359375 -9.125 -3.4375 C -9.125 -1.53125 -7.4375 -0.40625 -4.46875 -0.40625 C -1.46875 -0.40625 0.1875 -1.53125 0.1875 -3.4375 C 0.1875 -5.3125 -1.46875 -6.46875 -4.390625 -6.46875 Z M -4.484375 -5.078125 C -1.96875 -5.078125 -0.984375 -4.640625 -0.984375 -3.40625 C -0.984375 -2.25 -2.03125 -1.78125 -4.453125 -1.78125 C -6.875 -1.78125 -7.890625 -2.25 -7.890625 -3.4375 C -7.890625 -4.625 -6.859375 -5.078125 -4.484375 -5.078125 Z M -4.484375 -5.078125 \"/>\n</symbol>\n<symbol overflow=\"visible\" id=\"glyph2-10\">\n<path style=\"stroke:none;\" d=\"M -0.125 -4.46875 L -9.125 -4.46875 L -9.125 -3.515625 C -7.625 -3.09375 -7.578125 -2.96875 -7.34375 -1.140625 L -6.3125 -1.140625 L -6.3125 -3.09375 L 0 -3.09375 L 0 -4.46875 Z M -0.125 -4.46875 \"/>\n</symbol>\n<symbol overflow=\"visible\" id=\"glyph2-11\">\n<path style=\"stroke:none;\" d=\"M -3.0625 -6.53125 C -4.8125 -6.53125 -6.09375 -5.25 -6.09375 -3.546875 C -6.09375 -2.921875 -5.890625 -2.328125 -5.71875 -2.09375 L -7.59375 -2.359375 L -7.59375 -6.078125 L -8.9375 -6.078125 L -8.9375 -1.25 L -4.03125 -0.546875 L -4.03125 -1.78125 C -4.6875 -2.328125 -4.859375 -2.65625 -4.859375 -3.34375 C -4.859375 -4.53125 -4.21875 -5.15625 -2.90625 -5.15625 C -1.640625 -5.15625 -1.046875 -4.546875 -1.046875 -3.34375 C -1.046875 -2.390625 -1.40625 -1.921875 -2.53125 -1.625 L -2.53125 -0.28125 C -0.640625 -0.65625 0.1875 -1.796875 0.1875 -3.375 C 0.1875 -5.15625 -1.1875 -6.53125 -3.0625 -6.53125 Z M -3.0625 -6.53125 \"/>\n</symbol>\n<symbol overflow=\"visible\" id=\"glyph2-12\">\n<path style=\"stroke:none;\" d=\"M -2.703125 -6.453125 C -3.78125 -6.453125 -4.53125 -5.890625 -4.90625 -4.828125 L -4.640625 -4.828125 C -4.96875 -5.65625 -5.65625 -6.1875 -6.546875 -6.1875 C -8.078125 -6.1875 -9.125 -5.046875 -9.125 -3.359375 C -9.125 -1.578125 -8.015625 -0.484375 -6 -0.453125 L -6 -1.8125 C -7.4375 -1.84375 -7.90625 -2.25 -7.90625 -3.375 C -7.90625 -4.34375 -7.453125 -4.796875 -6.515625 -4.796875 C -5.5625 -4.796875 -5.3125 -4.53125 -5.3125 -2.625 L -4.125 -2.625 L -4.125 -3.359375 C -4.125 -4.578125 -3.671875 -5.0625 -2.6875 -5.0625 C -1.578125 -5.0625 -1.046875 -4.515625 -1.046875 -3.359375 C -1.046875 -2.15625 -1.515625 -1.703125 -2.9375 -1.609375 L -2.9375 -0.25 C -0.828125 -0.40625 0.1875 -1.515625 0.1875 -3.328125 C 0.1875 -5.15625 -1.03125 -6.453125 -2.703125 -6.453125 Z M -2.703125 -6.453125 \"/>\n</symbol>\n</g>\n</defs>\n<g id=\"surface132\">\n<rect x=\"0\" y=\"0\" width=\"288\" height=\"216\" style=\"fill:rgb(100%,100%,100%);fill-opacity:1;stroke:none;\"/>\n<g style=\"fill:rgb(0%,0%,0%);fill-opacity:1;\">\n  <use xlink:href=\"#glyph0-1\" x=\"70.191406\" y=\"35.089844\"/>\n  <use xlink:href=\"#glyph0-2\" x=\"80.953659\" y=\"35.089844\"/>\n  <use xlink:href=\"#glyph0-3\" x=\"85.09758\" y=\"35.089844\"/>\n  <use xlink:href=\"#glyph0-4\" x=\"93.385406\" y=\"35.089844\"/>\n  <use xlink:href=\"#glyph0-5\" x=\"98.349167\" y=\"35.089844\"/>\n  <use xlink:href=\"#glyph0-6\" x=\"107.456833\" y=\"35.089844\"/>\n  <use xlink:href=\"#glyph0-7\" x=\"116.564499\" y=\"35.089844\"/>\n  <use xlink:href=\"#glyph0-8\" x=\"122.362991\" y=\"35.089844\"/>\n  <use xlink:href=\"#glyph0-9\" x=\"130.650818\" y=\"35.089844\"/>\n  <use xlink:href=\"#glyph0-10\" x=\"143.902405\" y=\"35.089844\"/>\n  <use xlink:href=\"#glyph0-5\" x=\"148.046326\" y=\"35.089844\"/>\n  <use xlink:href=\"#glyph0-11\" x=\"157.153992\" y=\"35.089844\"/>\n  <use xlink:href=\"#glyph0-10\" x=\"162.117752\" y=\"35.089844\"/>\n  <use xlink:href=\"#glyph0-12\" x=\"166.261673\" y=\"35.089844\"/>\n  <use xlink:href=\"#glyph0-8\" x=\"175.369339\" y=\"35.089844\"/>\n  <use xlink:href=\"#glyph0-4\" x=\"183.657166\" y=\"35.089844\"/>\n  <use xlink:href=\"#glyph0-8\" x=\"188.620926\" y=\"35.089844\"/>\n  <use xlink:href=\"#glyph0-13\" x=\"196.908752\" y=\"35.089844\"/>\n  <use xlink:href=\"#glyph0-7\" x=\"205.196579\" y=\"35.089844\"/>\n  <use xlink:href=\"#glyph0-8\" x=\"210.995071\" y=\"35.089844\"/>\n  <use xlink:href=\"#glyph0-4\" x=\"219.282898\" y=\"35.089844\"/>\n  <use xlink:href=\"#glyph0-2\" x=\"224.246658\" y=\"35.089844\"/>\n  <use xlink:href=\"#glyph0-14\" x=\"228.390579\" y=\"35.089844\"/>\n  <use xlink:href=\"#glyph0-6\" x=\"237.498245\" y=\"35.089844\"/>\n</g>\n<g style=\"fill:rgb(0%,0%,0%);fill-opacity:1;\">\n  <use xlink:href=\"#glyph1-1\" x=\"127.128906\" y=\"198.71875\"/>\n  <use xlink:href=\"#glyph1-2\" x=\"134.078934\" y=\"198.71875\"/>\n  <use xlink:href=\"#glyph1-3\" x=\"141.028961\" y=\"198.71875\"/>\n  <use xlink:href=\"#glyph1-2\" x=\"144.503967\" y=\"198.71875\"/>\n  <use xlink:href=\"#glyph1-4\" x=\"151.453995\" y=\"198.71875\"/>\n  <use xlink:href=\"#glyph1-5\" x=\"158.404022\" y=\"198.71875\"/>\n  <use xlink:href=\"#glyph1-2\" x=\"162.566544\" y=\"198.71875\"/>\n  <use xlink:href=\"#glyph1-3\" x=\"169.516571\" y=\"198.71875\"/>\n  <use xlink:href=\"#glyph1-6\" x=\"172.991577\" y=\"198.71875\"/>\n  <use xlink:href=\"#glyph1-7\" x=\"175.766586\" y=\"198.71875\"/>\n  <use xlink:href=\"#glyph1-8\" x=\"182.716614\" y=\"198.71875\"/>\n</g>\n<g style=\"fill:rgb(0%,0%,0%);fill-opacity:1;\">\n  <use xlink:href=\"#glyph2-1\" x=\"14.398438\" y=\"130.324219\"/>\n  <use xlink:href=\"#glyph2-2\" x=\"14.398438\" y=\"122.686691\"/>\n  <use xlink:href=\"#glyph2-3\" x=\"14.398438\" y=\"118.52417\"/>\n  <use xlink:href=\"#glyph2-4\" x=\"14.398438\" y=\"111.574142\"/>\n  <use xlink:href=\"#glyph2-5\" x=\"14.398438\" y=\"104.624115\"/>\n  <use xlink:href=\"#glyph2-3\" x=\"14.398438\" y=\"97.674088\"/>\n  <use xlink:href=\"#glyph2-6\" x=\"14.398438\" y=\"90.72406\"/>\n  <use xlink:href=\"#glyph2-7\" x=\"14.398438\" y=\"83.774033\"/>\n  <use xlink:href=\"#glyph2-8\" x=\"14.398438\" y=\"77.524002\"/>\n</g>\n<path style=\"fill:none;stroke-width:1;stroke-linecap:round;stroke-linejoin:round;stroke:rgb(0%,0%,0%);stroke-opacity:1;stroke-miterlimit:10;\" d=\"M 66.398438 142.558594 L 250.398438 142.558594 \"/>\n<path style=\"fill:none;stroke-width:1;stroke-linecap:round;stroke-linejoin:round;stroke:rgb(0%,0%,0%);stroke-opacity:1;stroke-miterlimit:10;\" d=\"M 66.398438 142.558594 L 66.398438 149.761719 \"/>\n<path style=\"fill:none;stroke-width:1;stroke-linecap:round;stroke-linejoin:round;stroke:rgb(0%,0%,0%);stroke-opacity:1;stroke-miterlimit:10;\" d=\"M 112.398438 142.558594 L 112.398438 149.761719 \"/>\n<path style=\"fill:none;stroke-width:1;stroke-linecap:round;stroke-linejoin:round;stroke:rgb(0%,0%,0%);stroke-opacity:1;stroke-miterlimit:10;\" d=\"M 158.398438 142.558594 L 158.398438 149.761719 \"/>\n<path style=\"fill:none;stroke-width:1;stroke-linecap:round;stroke-linejoin:round;stroke:rgb(0%,0%,0%);stroke-opacity:1;stroke-miterlimit:10;\" d=\"M 204.398438 142.558594 L 204.398438 149.761719 \"/>\n<path style=\"fill:none;stroke-width:1;stroke-linecap:round;stroke-linejoin:round;stroke:rgb(0%,0%,0%);stroke-opacity:1;stroke-miterlimit:10;\" d=\"M 250.398438 142.558594 L 250.398438 149.761719 \"/>\n<g style=\"fill:rgb(0%,0%,0%);fill-opacity:1;\">\n  <use xlink:href=\"#glyph1-9\" x=\"62.921875\" y=\"169.921875\"/>\n</g>\n<g style=\"fill:rgb(0%,0%,0%);fill-opacity:1;\">\n  <use xlink:href=\"#glyph1-10\" x=\"108.921875\" y=\"169.921875\"/>\n</g>\n<g style=\"fill:rgb(0%,0%,0%);fill-opacity:1;\">\n  <use xlink:href=\"#glyph1-11\" x=\"154.921875\" y=\"169.921875\"/>\n</g>\n<g style=\"fill:rgb(0%,0%,0%);fill-opacity:1;\">\n  <use xlink:href=\"#glyph1-12\" x=\"200.921875\" y=\"169.921875\"/>\n</g>\n<g style=\"fill:rgb(0%,0%,0%);fill-opacity:1;\">\n  <use xlink:href=\"#glyph1-13\" x=\"246.921875\" y=\"169.921875\"/>\n</g>\n<path style=\"fill:none;stroke-width:1;stroke-linecap:round;stroke-linejoin:round;stroke:rgb(0%,0%,0%);stroke-opacity:1;stroke-miterlimit:10;\" d=\"M 59.039062 139.464844 L 59.039062 60.265625 \"/>\n<path style=\"fill:none;stroke-width:1;stroke-linecap:round;stroke-linejoin:round;stroke:rgb(0%,0%,0%);stroke-opacity:1;stroke-miterlimit:10;\" d=\"M 59.039062 139.464844 L 51.839844 139.464844 \"/>\n<path style=\"fill:none;stroke-width:1;stroke-linecap:round;stroke-linejoin:round;stroke:rgb(0%,0%,0%);stroke-opacity:1;stroke-miterlimit:10;\" d=\"M 59.039062 128.152344 L 51.839844 128.152344 \"/>\n<path style=\"fill:none;stroke-width:1;stroke-linecap:round;stroke-linejoin:round;stroke:rgb(0%,0%,0%);stroke-opacity:1;stroke-miterlimit:10;\" d=\"M 59.039062 116.835938 L 51.839844 116.835938 \"/>\n<path style=\"fill:none;stroke-width:1;stroke-linecap:round;stroke-linejoin:round;stroke:rgb(0%,0%,0%);stroke-opacity:1;stroke-miterlimit:10;\" d=\"M 59.039062 105.523438 L 51.839844 105.523438 \"/>\n<path style=\"fill:none;stroke-width:1;stroke-linecap:round;stroke-linejoin:round;stroke:rgb(0%,0%,0%);stroke-opacity:1;stroke-miterlimit:10;\" d=\"M 59.039062 94.207031 L 51.839844 94.207031 \"/>\n<path style=\"fill:none;stroke-width:1;stroke-linecap:round;stroke-linejoin:round;stroke:rgb(0%,0%,0%);stroke-opacity:1;stroke-miterlimit:10;\" d=\"M 59.039062 82.894531 L 51.839844 82.894531 \"/>\n<path style=\"fill:none;stroke-width:1;stroke-linecap:round;stroke-linejoin:round;stroke:rgb(0%,0%,0%);stroke-opacity:1;stroke-miterlimit:10;\" d=\"M 59.039062 71.578125 L 51.839844 71.578125 \"/>\n<path style=\"fill:none;stroke-width:1;stroke-linecap:round;stroke-linejoin:round;stroke:rgb(0%,0%,0%);stroke-opacity:1;stroke-miterlimit:10;\" d=\"M 59.039062 60.265625 L 51.839844 60.265625 \"/>\n<g style=\"fill:rgb(0%,0%,0%);fill-opacity:1;\">\n  <use xlink:href=\"#glyph2-9\" x=\"43.199219\" y=\"142.941406\"/>\n</g>\n<g style=\"fill:rgb(0%,0%,0%);fill-opacity:1;\">\n  <use xlink:href=\"#glyph2-10\" x=\"43.199219\" y=\"122.898438\"/>\n  <use xlink:href=\"#glyph2-11\" x=\"43.199219\" y=\"115.94841\"/>\n  <use xlink:href=\"#glyph2-9\" x=\"43.199219\" y=\"108.998383\"/>\n  <use xlink:href=\"#glyph2-9\" x=\"43.199219\" y=\"102.048355\"/>\n  <use xlink:href=\"#glyph2-9\" x=\"43.199219\" y=\"95.098328\"/>\n</g>\n<g style=\"fill:rgb(0%,0%,0%);fill-opacity:1;\">\n  <use xlink:href=\"#glyph2-12\" x=\"43.199219\" y=\"77.640625\"/>\n  <use xlink:href=\"#glyph2-11\" x=\"43.199219\" y=\"70.690598\"/>\n  <use xlink:href=\"#glyph2-9\" x=\"43.199219\" y=\"63.74057\"/>\n  <use xlink:href=\"#glyph2-9\" x=\"43.199219\" y=\"56.790543\"/>\n  <use xlink:href=\"#glyph2-9\" x=\"43.199219\" y=\"49.840515\"/>\n</g>\n<path style=\"fill:none;stroke-width:1;stroke-linecap:round;stroke-linejoin:round;stroke:rgb(0%,0%,0%);stroke-opacity:1;stroke-miterlimit:10;\" d=\"M 66.398438 125.640625 L 75.597656 125.640625 L 75.597656 139.46875 L 66.398438 139.46875 Z M 66.398438 125.640625 \"/>\n<path style=\"fill:none;stroke-width:1;stroke-linecap:round;stroke-linejoin:round;stroke:rgb(0%,0%,0%);stroke-opacity:1;stroke-miterlimit:10;\" d=\"M 75.601562 139.464844 L 84.800781 139.464844 Z M 75.601562 139.464844 \"/>\n<path style=\"fill:none;stroke-width:1;stroke-linecap:round;stroke-linejoin:round;stroke:rgb(0%,0%,0%);stroke-opacity:1;stroke-miterlimit:10;\" d=\"M 84.800781 139.464844 L 94 139.464844 Z M 84.800781 139.464844 \"/>\n<path style=\"fill:none;stroke-width:1;stroke-linecap:round;stroke-linejoin:round;stroke:rgb(0%,0%,0%);stroke-opacity:1;stroke-miterlimit:10;\" d=\"M 94 139.464844 L 103.199219 139.464844 Z M 94 139.464844 \"/>\n<path style=\"fill:none;stroke-width:1;stroke-linecap:round;stroke-linejoin:round;stroke:rgb(0%,0%,0%);stroke-opacity:1;stroke-miterlimit:10;\" d=\"M 103.199219 113.738281 L 112.398438 113.738281 L 112.398438 139.46875 L 103.199219 139.46875 Z M 103.199219 113.738281 \"/>\n<path style=\"fill:none;stroke-width:1;stroke-linecap:round;stroke-linejoin:round;stroke:rgb(0%,0%,0%);stroke-opacity:1;stroke-miterlimit:10;\" d=\"M 112.398438 139.464844 L 121.597656 139.464844 Z M 112.398438 139.464844 \"/>\n<path style=\"fill:none;stroke-width:1;stroke-linecap:round;stroke-linejoin:round;stroke:rgb(0%,0%,0%);stroke-opacity:1;stroke-miterlimit:10;\" d=\"M 121.601562 139.464844 L 130.800781 139.464844 Z M 121.601562 139.464844 \"/>\n<path style=\"fill:none;stroke-width:1;stroke-linecap:round;stroke-linejoin:round;stroke:rgb(0%,0%,0%);stroke-opacity:1;stroke-miterlimit:10;\" d=\"M 130.800781 139.464844 L 140 139.464844 Z M 130.800781 139.464844 \"/>\n<path style=\"fill:none;stroke-width:1;stroke-linecap:round;stroke-linejoin:round;stroke:rgb(0%,0%,0%);stroke-opacity:1;stroke-miterlimit:10;\" d=\"M 140 139.464844 L 149.199219 139.464844 Z M 140 139.464844 \"/>\n<path style=\"fill:none;stroke-width:1;stroke-linecap:round;stroke-linejoin:round;stroke:rgb(0%,0%,0%);stroke-opacity:1;stroke-miterlimit:10;\" d=\"M 149.199219 78.039062 L 158.398438 78.039062 L 158.398438 139.464844 L 149.199219 139.464844 Z M 149.199219 78.039062 \"/>\n<path style=\"fill:none;stroke-width:1;stroke-linecap:round;stroke-linejoin:round;stroke:rgb(0%,0%,0%);stroke-opacity:1;stroke-miterlimit:10;\" d=\"M 158.398438 139.464844 L 167.597656 139.464844 Z M 158.398438 139.464844 \"/>\n<path style=\"fill:none;stroke-width:1;stroke-linecap:round;stroke-linejoin:round;stroke:rgb(0%,0%,0%);stroke-opacity:1;stroke-miterlimit:10;\" d=\"M 167.601562 139.464844 L 176.800781 139.464844 Z M 167.601562 139.464844 \"/>\n<path style=\"fill:none;stroke-width:1;stroke-linecap:round;stroke-linejoin:round;stroke:rgb(0%,0%,0%);stroke-opacity:1;stroke-miterlimit:10;\" d=\"M 176.800781 139.464844 L 186 139.464844 Z M 176.800781 139.464844 \"/>\n<path style=\"fill:none;stroke-width:1;stroke-linecap:round;stroke-linejoin:round;stroke:rgb(0%,0%,0%);stroke-opacity:1;stroke-miterlimit:10;\" d=\"M 186 139.464844 L 195.199219 139.464844 Z M 186 139.464844 \"/>\n<path style=\"fill:none;stroke-width:1;stroke-linecap:round;stroke-linejoin:round;stroke:rgb(0%,0%,0%);stroke-opacity:1;stroke-miterlimit:10;\" d=\"M 195.199219 62.132812 L 204.398438 62.132812 L 204.398438 139.464844 L 195.199219 139.464844 Z M 195.199219 62.132812 \"/>\n<path style=\"fill:none;stroke-width:1;stroke-linecap:round;stroke-linejoin:round;stroke:rgb(0%,0%,0%);stroke-opacity:1;stroke-miterlimit:10;\" d=\"M 204.398438 139.464844 L 213.597656 139.464844 Z M 204.398438 139.464844 \"/>\n<path style=\"fill:none;stroke-width:1;stroke-linecap:round;stroke-linejoin:round;stroke:rgb(0%,0%,0%);stroke-opacity:1;stroke-miterlimit:10;\" d=\"M 213.601562 139.464844 L 222.800781 139.464844 Z M 213.601562 139.464844 \"/>\n<path style=\"fill:none;stroke-width:1;stroke-linecap:round;stroke-linejoin:round;stroke:rgb(0%,0%,0%);stroke-opacity:1;stroke-miterlimit:10;\" d=\"M 222.800781 139.464844 L 232 139.464844 Z M 222.800781 139.464844 \"/>\n<path style=\"fill:none;stroke-width:1;stroke-linecap:round;stroke-linejoin:round;stroke:rgb(0%,0%,0%);stroke-opacity:1;stroke-miterlimit:10;\" d=\"M 232 139.464844 L 241.199219 139.464844 Z M 232 139.464844 \"/>\n<path style=\"fill:none;stroke-width:1;stroke-linecap:round;stroke-linejoin:round;stroke:rgb(0%,0%,0%);stroke-opacity:1;stroke-miterlimit:10;\" d=\"M 241.199219 91.492188 L 250.398438 91.492188 L 250.398438 139.46875 L 241.199219 139.46875 Z M 241.199219 91.492188 \"/>\n</g>\n</svg>\n"
          },
          "metadata": {
            "image/svg+xml": {
              "isolated": true
            }
          }
        }
      ]
    },
    {
      "metadata": {},
      "cell_type": "markdown",
      "source": "We must now subset the data into train and test sets to use for our different models. Here, we split the entire dataset into 70% train and 30% test."
    },
    {
      "metadata": {
        "trusted": true
      },
      "cell_type": "code",
      "source": "# First, we convert our data type to a recommenderlab compatible type\ndata_new = as(data, \"realRatingMatrix\")\n\n# Now, we apply a split of 0.7 train, 0.3 test\n# You can ignore the given parameter\ndata_split = evaluationScheme(data_new, method=\"split\", train=0.7, goodRating=3, given=-1)\ntrain = getData(data_split, \"train\")\ntest_X = getData(data_split, \"known\")\ntest_Y = getData(data_split, \"unknown\")\n\nprint('Data subset successful!')",
      "execution_count": 7,
      "outputs": [
        {
          "output_type": "stream",
          "text": "[1] \"Data subset successful!\"\n",
          "name": "stdout"
        }
      ]
    },
    {
      "metadata": {},
      "cell_type": "markdown",
      "source": "<h1 style=\"color:red;\">QUESTION 1: DATA ANALYSIS</h1>"
    },
    {
      "metadata": {},
      "cell_type": "markdown",
      "source": "**Describe the dataset. How many ratings are in the dataset? How would you describe the distribution of ratings? Is there anything else we should observe? Make sure the histogram is visible in the notebook.**"
    },
    {
      "metadata": {},
      "cell_type": "markdown",
      "source": "*Type your response here...*"
    },
    {
      "metadata": {},
      "cell_type": "markdown",
      "source": "# Model 1: Random"
    },
    {
      "metadata": {
        "trusted": true
      },
      "cell_type": "code",
      "source": "# Create model object on our training set\nmodel_random = Recommender(train, method=\"RANDOM\")\nprint('Model creation successful!')",
      "execution_count": 8,
      "outputs": [
        {
          "output_type": "stream",
          "text": "[1] \"Model creation successful!\"\n",
          "name": "stdout"
        }
      ]
    },
    {
      "metadata": {
        "trusted": true
      },
      "cell_type": "code",
      "source": "# Evaluate RMSE on test set\npredicted_random = predict(model_random, test_X, type=\"ratings\")\nerror_random = calcPredictionAccuracy(predicted_random, test_Y)\nerror_random",
      "execution_count": 9,
      "outputs": [
        {
          "output_type": "display_data",
          "data": {
            "text/plain": "    RMSE      MSE      MAE \n1.370820 1.879148 1.061441 ",
            "text/latex": "\\begin{description*}\n\\item[RMSE] 1.37082006805282\n\\item[MSE] 1.87914765897634\n\\item[MAE] 1.06144090924835\n\\end{description*}\n",
            "text/markdown": "RMSE\n:   1.37082006805282MSE\n:   1.87914765897634MAE\n:   1.06144090924835\n\n",
            "text/html": "<dl class=dl-horizontal>\n\t<dt>RMSE</dt>\n\t\t<dd>1.37082006805282</dd>\n\t<dt>MSE</dt>\n\t\t<dd>1.87914765897634</dd>\n\t<dt>MAE</dt>\n\t\t<dd>1.06144090924835</dd>\n</dl>\n"
          },
          "metadata": {}
        }
      ]
    },
    {
      "metadata": {},
      "cell_type": "markdown",
      "source": "# Model 2: User-Based Collaborative Filtering"
    },
    {
      "metadata": {
        "trusted": true
      },
      "cell_type": "code",
      "source": "# Create model object on our training set\nmodel_user = Recommender(train, method=\"UBCF\")\nprint('Model creation successful!')",
      "execution_count": 10,
      "outputs": [
        {
          "output_type": "stream",
          "text": "[1] \"Model creation successful!\"\n",
          "name": "stdout"
        }
      ]
    },
    {
      "metadata": {
        "trusted": true
      },
      "cell_type": "code",
      "source": "# Evaluate RMSE on test set\npredicted_user = predict(model_user, test_X, type=\"ratings\")\nerror_user = calcPredictionAccuracy(predicted_user, test_Y)\nerror_user",
      "execution_count": 11,
      "outputs": [
        {
          "output_type": "display_data",
          "data": {
            "text/plain": "     RMSE       MSE       MAE \n1.0295546 1.0599827 0.8339814 ",
            "text/latex": "\\begin{description*}\n\\item[RMSE] 1.02955462768168\n\\item[MSE] 1.05998273138077\n\\item[MAE] 0.833981373684318\n\\end{description*}\n",
            "text/markdown": "RMSE\n:   1.02955462768168MSE\n:   1.05998273138077MAE\n:   0.833981373684318\n\n",
            "text/html": "<dl class=dl-horizontal>\n\t<dt>RMSE</dt>\n\t\t<dd>1.02955462768168</dd>\n\t<dt>MSE</dt>\n\t\t<dd>1.05998273138077</dd>\n\t<dt>MAE</dt>\n\t\t<dd>0.833981373684318</dd>\n</dl>\n"
          },
          "metadata": {}
        }
      ]
    },
    {
      "metadata": {},
      "cell_type": "markdown",
      "source": "# Model 3: Item-Based Collaborative Filtering"
    },
    {
      "metadata": {
        "trusted": true
      },
      "cell_type": "code",
      "source": "# Create model object on our training set\n# Note that this may take a while to train\nmodel_item = Recommender(train, method=\"IBCF\")\nprint('Model creation successful!')",
      "execution_count": 12,
      "outputs": [
        {
          "output_type": "stream",
          "text": "[1] \"Model creation successful!\"\n",
          "name": "stdout"
        }
      ]
    },
    {
      "metadata": {
        "trusted": true
      },
      "cell_type": "code",
      "source": "# Evaluate RMSE on test set\npredicted_item = predict(model_item, test_X, type=\"ratings\")\nerror_item = calcPredictionAccuracy(predicted_item, test_Y)\nerror_item",
      "execution_count": 13,
      "outputs": [
        {
          "output_type": "display_data",
          "data": {
            "text/plain": "    RMSE      MSE      MAE \n0.842615 0.710000 0.580000 ",
            "text/latex": "\\begin{description*}\n\\item[RMSE] 0.842614977317636\n\\item[MSE] 0.71\n\\item[MAE] 0.58\n\\end{description*}\n",
            "text/markdown": "RMSE\n:   0.842614977317636MSE\n:   0.71MAE\n:   0.58\n\n",
            "text/html": "<dl class=dl-horizontal>\n\t<dt>RMSE</dt>\n\t\t<dd>0.842614977317636</dd>\n\t<dt>MSE</dt>\n\t\t<dd>0.71</dd>\n\t<dt>MAE</dt>\n\t\t<dd>0.58</dd>\n</dl>\n"
          },
          "metadata": {}
        }
      ]
    },
    {
      "metadata": {},
      "cell_type": "markdown",
      "source": "<h1 style=\"color:red;\">QUESTION 2: COLLABORATIVE FILTERING MODELS</h1>"
    },
    {
      "metadata": {},
      "cell_type": "markdown",
      "source": "**Compare the results from the user-user and item-item models. How do they compare to each other? How do they compare to our original \"random\" model? Can you provide any intuition as to why the results came out the way they did?**"
    },
    {
      "metadata": {},
      "cell_type": "markdown",
      "source": "*Type your response here...*"
    },
    {
      "metadata": {},
      "cell_type": "markdown",
      "source": "# Model 4: Matrix Factorization"
    },
    {
      "metadata": {
        "trusted": true
      },
      "cell_type": "code",
      "source": "# Create model object on our training set\nmodel_matrix = Recommender(train, method=\"SVD\")\nprint('Model creation successful!')",
      "execution_count": 14,
      "outputs": [
        {
          "output_type": "stream",
          "text": "[1] \"Model creation successful!\"\n",
          "name": "stdout"
        }
      ]
    },
    {
      "metadata": {
        "trusted": true
      },
      "cell_type": "code",
      "source": "# Evaluate RMSE on test set\npredicted_matrix = predict(model_matrix, test_X, type=\"ratings\")\nerror_matrix = calcPredictionAccuracy(predicted_matrix, test_Y)\nerror_matrix",
      "execution_count": 15,
      "outputs": [
        {
          "output_type": "display_data",
          "data": {
            "text/plain": "     RMSE       MSE       MAE \n0.9916817 0.9834326 0.8049317 ",
            "text/latex": "\\begin{description*}\n\\item[RMSE] 0.991681714963319\n\\item[MSE] 0.983432623792589\n\\item[MAE] 0.804931696084904\n\\end{description*}\n",
            "text/markdown": "RMSE\n:   0.991681714963319MSE\n:   0.983432623792589MAE\n:   0.804931696084904\n\n",
            "text/html": "<dl class=dl-horizontal>\n\t<dt>RMSE</dt>\n\t\t<dd>0.991681714963319</dd>\n\t<dt>MSE</dt>\n\t\t<dd>0.983432623792589</dd>\n\t<dt>MAE</dt>\n\t\t<dd>0.804931696084904</dd>\n</dl>\n"
          },
          "metadata": {}
        }
      ]
    },
    {
      "metadata": {},
      "cell_type": "markdown",
      "source": "<h1 style=\"color:red;\">QUESTION 3: MATRIX FACTORIZATION MODEL</h1>"
    },
    {
      "metadata": {},
      "cell_type": "markdown",
      "source": "**The matrix factorization model is different from the collaborative filtering models. Briefly describe this difference. Also, compare the RMSE again. Does it improve? Can you offer any reasoning as to why that might be?**\n\nNo code is required for this question."
    },
    {
      "metadata": {},
      "cell_type": "markdown",
      "source": "*Type your response here...*"
    },
    {
      "metadata": {},
      "cell_type": "markdown",
      "source": "# Precision and Recall @ `k`"
    },
    {
      "metadata": {},
      "cell_type": "markdown",
      "source": "We now want to compute the precision and recall for 2 values of `k`: 5 and 10. The `recommenderlab` library makes this super easy!\n\nNote that some of these values may take some time (a few minutes) to compute."
    },
    {
      "metadata": {},
      "cell_type": "markdown",
      "source": "<h1 style=\"color:red;\">QUESTION 4: PRECISION/RECALL</h1>"
    },
    {
      "metadata": {},
      "cell_type": "markdown",
      "source": "**Compute the precision and recall, for each of the 4 models, at `k` = 5 and 10. This is 2 x 2 x 4 = 16 numerical values. Do you note anything interesting about these values? Anything differerent from the RMSE values you computed above?**"
    },
    {
      "metadata": {},
      "cell_type": "markdown",
      "source": "*Type your response here...*"
    },
    {
      "metadata": {
        "trusted": true
      },
      "cell_type": "code",
      "source": "results_random = evaluate(data_split, method=\"RANDOM\", type=\"topNList\", n=c(5, 10))\nresults_random@results",
      "execution_count": 16,
      "outputs": [
        {
          "output_type": "stream",
          "text": "RANDOM run fold/sample [model time/prediction time]\n\t 1  [0.001sec/1.214sec] \n",
          "name": "stdout"
        },
        {
          "output_type": "display_data",
          "data": {
            "text/plain": "[[1]]\nAn object of class \"confusionMatrix\"\nSlot \"cm\":\n           TP       FP        FN       TN   precision     recall        TPR\n5  0.01413428 4.985866 0.8515901 1677.148 0.002826855 0.01632653 0.01632653\n10 0.01766784 9.982332 0.8480565 1672.152 0.001766784 0.02040816 0.02040816\n           FPR\n5  0.002964011\n10 0.005934325\n\nSlot \"model\":\nNULL\n\n"
          },
          "metadata": {}
        }
      ]
    },
    {
      "metadata": {
        "trusted": true
      },
      "cell_type": "code",
      "source": "results_user = evaluate(data_split, method=\"UBCF\", type=\"topNList\", n=c(5, 10))\nresults_user@results",
      "execution_count": 17,
      "outputs": [
        {
          "output_type": "stream",
          "text": "UBCF run fold/sample [model time/prediction time]\n\t 1  [0.036sec/5.305sec] \n",
          "name": "stdout"
        },
        {
          "output_type": "display_data",
          "data": {
            "text/plain": "[[1]]\nAn object of class \"confusionMatrix\"\nSlot \"cm\":\n           TP       FP        FN       TN   precision     recall        TPR\n5  0.01060071 4.989399 0.8551237 1677.145 0.002120141 0.01224490 0.01224490\n10 0.03180212 9.968198 0.8339223 1672.166 0.003180212 0.03673469 0.03673469\n           FPR\n5  0.002966112\n10 0.005925922\n\nSlot \"model\":\nNULL\n\n"
          },
          "metadata": {}
        }
      ]
    },
    {
      "metadata": {
        "trusted": true
      },
      "cell_type": "code",
      "source": "results_item = evaluate(data_split, method=\"IBCF\", type=\"topNList\", n=c(5, 10))\nresults_item@results",
      "execution_count": null,
      "outputs": []
    },
    {
      "metadata": {
        "trusted": true
      },
      "cell_type": "code",
      "source": "results_matrix = evaluate(data_split, method=\"SVD\", type=\"topNList\", n=c(5, 10))\nresults_matrix@results",
      "execution_count": null,
      "outputs": []
    },
    {
      "metadata": {},
      "cell_type": "markdown",
      "source": "#  Top-`n` Predictions"
    },
    {
      "metadata": {},
      "cell_type": "markdown",
      "source": "Finally, we can see what some of the actual movie ratings are for particular users, as outputs of our model."
    },
    {
      "metadata": {},
      "cell_type": "markdown",
      "source": "<h1 style=\"color:red;\">QUESTION 5: TOP N PREDICTIONS</h1>"
    },
    {
      "metadata": {},
      "cell_type": "markdown",
      "source": "**Do the top n predictions that you received make sense? What is the rating value (1-5) of these predictions? How could you use these predictions in the real-world if you were trying to build a generic content recommender system for a company?**"
    },
    {
      "metadata": {},
      "cell_type": "markdown",
      "source": "*Type your response here...*"
    },
    {
      "metadata": {
        "trusted": true
      },
      "cell_type": "code",
      "source": "# Pick a user and value of n\nuser_id = 5\nn = 10\nprint('Variable update successful!')",
      "execution_count": null,
      "outputs": []
    },
    {
      "metadata": {
        "trusted": true
      },
      "cell_type": "code",
      "source": "# Repeat this process for the all models\nfor (model in c(model_random, model_user, model_item, model_matrix)) {\n    # Get recs for model\n    user_recs = predict(model, test_X, n=n, type=\"ratings\")\n    \n    # Print the top n recs for that user\n    print(model)\n    print(user_recs@data[user_id,][order(-user_recs@data[user_id,])][c(1:n)])\n}\n\nprint('Top N predictions successful!')",
      "execution_count": null,
      "outputs": []
    },
    {
      "metadata": {},
      "cell_type": "markdown",
      "source": "<hr>"
    },
    {
      "metadata": {},
      "cell_type": "markdown",
      "source": "Great job! Now, make sure you check out the **Conclusion** section of the [instruction manual](https://courses.edx.org/asset-v1:MITxPRO+DSx+2T2018+type@asset+block@4.1_instruction_manual.html) to wrap up this case study properly."
    }
  ],
  "metadata": {
    "kernelspec": {
      "name": "r",
      "display_name": "R",
      "language": "R"
    },
    "language_info": {
      "mimetype": "text/x-r-source",
      "name": "R",
      "pygments_lexer": "r",
      "version": "3.5.3",
      "file_extension": ".r",
      "codemirror_mode": "r"
    }
  },
  "nbformat": 4,
  "nbformat_minor": 2
}