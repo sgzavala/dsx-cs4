{
 "cells": [
  {
   "cell_type": "code",
   "execution_count": 1,
   "metadata": {},
   "outputs": [],
   "source": [
    "# !pip install scikit-surprise"
   ]
  },
  {
   "cell_type": "code",
   "execution_count": 1,
   "metadata": {},
   "outputs": [
    {
     "ename": "ModuleNotFoundError",
     "evalue": "No module named 'surprise'",
     "output_type": "error",
     "traceback": [
      "\u001b[0;31m---------------------------------------------------------------------------\u001b[0m",
      "\u001b[0;31mModuleNotFoundError\u001b[0m                       Traceback (most recent call last)",
      "\u001b[0;32m<ipython-input-1-63abd6095efd>\u001b[0m in \u001b[0;36m<module>\u001b[0;34m()\u001b[0m\n\u001b[0;32m----> 1\u001b[0;31m \u001b[0;32mfrom\u001b[0m \u001b[0msurprise\u001b[0m \u001b[0;32mimport\u001b[0m \u001b[0mSVD\u001b[0m\u001b[0;34m\u001b[0m\u001b[0m\n\u001b[0m\u001b[1;32m      2\u001b[0m \u001b[0;32mfrom\u001b[0m \u001b[0msurprise\u001b[0m \u001b[0;32mimport\u001b[0m \u001b[0mDataset\u001b[0m\u001b[0;34m\u001b[0m\u001b[0m\n\u001b[1;32m      3\u001b[0m \u001b[0;32mfrom\u001b[0m \u001b[0msurprise\u001b[0m\u001b[0;34m.\u001b[0m\u001b[0mmodel_selection\u001b[0m \u001b[0;32mimport\u001b[0m \u001b[0mcross_validate\u001b[0m\u001b[0;34m\u001b[0m\u001b[0m\n\u001b[1;32m      4\u001b[0m \u001b[0;34m\u001b[0m\u001b[0m\n\u001b[1;32m      5\u001b[0m \u001b[0;31m# Load the movielens-100k dataset (download it if needed).\u001b[0m\u001b[0;34m\u001b[0m\u001b[0;34m\u001b[0m\u001b[0m\n",
      "\u001b[0;31mModuleNotFoundError\u001b[0m: No module named 'surprise'"
     ]
    }
   ],
   "source": [
    "from surprise import SVD\n",
    "from surprise import Dataset\n",
    "from surprise.model_selection import cross_validate\n",
    "\n",
    "# Load the movielens-100k dataset (download it if needed).\n",
    "data = Dataset.load_builtin('ml-100k')\n",
    "\n",
    "# Use the famous SVD algorithm.\n",
    "algo = SVD()\n",
    "\n",
    "# Run 5-fold cross-validation and print results.\n",
    "cross_validate(algo, data, measures=['RMSE', 'MAE'], cv=5, verbose=True)"
   ]
  },
  {
   "cell_type": "markdown",
   "metadata": {},
   "source": [
    "Trying with many algorithms."
   ]
  },
  {
   "cell_type": "code",
   "execution_count": 14,
   "metadata": {},
   "outputs": [],
   "source": [
    "from surprise import SVD, NormalPredictor, BaselineOnly, KNNBasic, NMF"
   ]
  },
  {
   "cell_type": "code",
   "execution_count": 15,
   "metadata": {},
   "outputs": [],
   "source": [
    "algos = [\n",
    "    NormalPredictor(), # assume normal distribution\n",
    "    BaselineOnly(),    # unclear\n",
    "    KNNBasic(sim_options={'user_based': True}),  # user-user\n",
    "    KNNBasic(sim_options={'user_based': False}), # item-item\n",
    "    SVD(), # famous matrix factorization\n",
    "    NMF(), # another matrix fact algo\n",
    "]"
   ]
  },
  {
   "cell_type": "code",
   "execution_count": 16,
   "metadata": {},
   "outputs": [
    {
     "name": "stdout",
     "output_type": "stream",
     "text": [
      "<surprise.prediction_algorithms.random_pred.NormalPredictor object at 0x7fe959fa2fd0>\n",
      "Evaluating RMSE, MAE of algorithm NormalPredictor on 5 split(s).\n",
      "\n",
      "                  Fold 1  Fold 2  Fold 3  Fold 4  Fold 5  Mean    Std     \n",
      "RMSE (testset)    1.5196  1.5281  1.5314  1.5175  1.5153  1.5224  0.0063  \n",
      "MAE (testset)     1.2150  1.2300  1.2313  1.2193  1.2184  1.2228  0.0065  \n",
      "Fit time          0.55    0.56    0.56    0.45    0.46    0.52    0.05    \n",
      "Test time         0.74    0.80    0.88    0.59    0.55    0.71    0.13    \n",
      "<surprise.prediction_algorithms.baseline_only.BaselineOnly object at 0x7fe959fa2b00>\n",
      "Estimating biases using als...\n",
      "Estimating biases using als...\n",
      "Estimating biases using als...\n",
      "Estimating biases using als...\n",
      "Estimating biases using als...\n",
      "Evaluating RMSE, MAE of algorithm BaselineOnly on 5 split(s).\n",
      "\n",
      "                  Fold 1  Fold 2  Fold 3  Fold 4  Fold 5  Mean    Std     \n",
      "RMSE (testset)    0.9461  0.9465  0.9404  0.9475  0.9421  0.9445  0.0028  \n",
      "MAE (testset)     0.7488  0.7506  0.7470  0.7512  0.7466  0.7488  0.0019  \n",
      "Fit time          0.78    0.84    0.77    0.79    0.90    0.81    0.05    \n",
      "Test time         0.78    0.64    0.54    0.44    0.84    0.65    0.15    \n",
      "<surprise.prediction_algorithms.knns.KNNBasic object at 0x7fe95bae7ba8>\n",
      "Computing the msd similarity matrix...\n",
      "Done computing similarity matrix.\n",
      "Computing the msd similarity matrix...\n",
      "Done computing similarity matrix.\n",
      "Computing the msd similarity matrix...\n",
      "Done computing similarity matrix.\n",
      "Computing the msd similarity matrix...\n",
      "Done computing similarity matrix.\n",
      "Computing the msd similarity matrix...\n",
      "Done computing similarity matrix.\n",
      "Evaluating RMSE, MAE of algorithm KNNBasic on 5 split(s).\n",
      "\n",
      "                  Fold 1  Fold 2  Fold 3  Fold 4  Fold 5  Mean    Std     \n",
      "RMSE (testset)    0.9890  0.9741  0.9778  0.9846  0.9675  0.9786  0.0076  \n",
      "MAE (testset)     0.7818  0.7677  0.7763  0.7756  0.7642  0.7731  0.0063  \n",
      "Fit time          2.11    1.84    1.97    1.85    1.98    1.95    0.10    \n",
      "Test time         14.42   15.43   14.94   14.92   15.37   15.02   0.37    \n",
      "<surprise.prediction_algorithms.knns.KNNBasic object at 0x7fe95bae7cf8>\n",
      "Computing the msd similarity matrix...\n",
      "Done computing similarity matrix.\n",
      "Computing the msd similarity matrix...\n",
      "Done computing similarity matrix.\n",
      "Computing the msd similarity matrix...\n",
      "Done computing similarity matrix.\n",
      "Computing the msd similarity matrix...\n",
      "Done computing similarity matrix.\n",
      "Computing the msd similarity matrix...\n",
      "Done computing similarity matrix.\n",
      "Evaluating RMSE, MAE of algorithm KNNBasic on 5 split(s).\n",
      "\n",
      "                  Fold 1  Fold 2  Fold 3  Fold 4  Fold 5  Mean    Std     \n",
      "RMSE (testset)    0.9731  0.9820  0.9760  0.9710  0.9650  0.9734  0.0056  \n",
      "MAE (testset)     0.7702  0.7734  0.7705  0.7676  0.7635  0.7690  0.0033  \n",
      "Fit time          2.88    3.00    3.10    4.03    3.51    3.31    0.42    \n",
      "Test time         17.19   18.27   20.46   22.57   21.72   20.04   2.03    \n",
      "<surprise.prediction_algorithms.matrix_factorization.SVD object at 0x7fe95bae7cc0>\n",
      "Evaluating RMSE, MAE of algorithm SVD on 5 split(s).\n",
      "\n",
      "                  Fold 1  Fold 2  Fold 3  Fold 4  Fold 5  Mean    Std     \n",
      "RMSE (testset)    0.9336  0.9391  0.9358  0.9398  0.9320  0.9361  0.0030  \n",
      "MAE (testset)     0.7354  0.7420  0.7353  0.7386  0.7353  0.7373  0.0026  \n",
      "Fit time          24.02   23.46   24.10   24.91   23.88   24.07   0.47    \n",
      "Test time         1.20    1.20    0.85    1.10    0.84    1.04    0.16    \n",
      "<surprise.prediction_algorithms.matrix_factorization.NMF object at 0x7fe95bae7c88>\n",
      "Evaluating RMSE, MAE of algorithm NMF on 5 split(s).\n",
      "\n",
      "                  Fold 1  Fold 2  Fold 3  Fold 4  Fold 5  Mean    Std     \n",
      "RMSE (testset)    0.9657  0.9583  0.9665  0.9704  0.9590  0.9640  0.0046  \n",
      "MAE (testset)     0.7567  0.7537  0.7611  0.7623  0.7540  0.7576  0.0036  \n",
      "Fit time          27.69   25.56   24.09   23.61   24.44   25.08   1.46    \n",
      "Test time         0.76    1.09    1.04    0.63    1.17    0.94    0.21    \n"
     ]
    }
   ],
   "source": [
    "for a in algos:\n",
    "    print(a)\n",
    "    cross_validate(a, data, measures=['RMSE', 'MAE'], cv=5, verbose=True)"
   ]
  }
 ],
 "metadata": {
  "kernelspec": {
   "display_name": "Python 3.6",
   "language": "python",
   "name": "python36"
  },
  "language_info": {
   "codemirror_mode": {
    "name": "ipython",
    "version": 3
   },
   "file_extension": ".py",
   "mimetype": "text/x-python",
   "name": "python",
   "nbconvert_exporter": "python",
   "pygments_lexer": "ipython3",
   "version": "3.6.3"
  }
 },
 "nbformat": 4,
 "nbformat_minor": 2
}
