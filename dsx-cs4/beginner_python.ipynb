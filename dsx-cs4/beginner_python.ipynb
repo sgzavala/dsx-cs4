{
  "cells": [
    {
      "metadata": {
        "collapsed": true
      },
      "cell_type": "markdown",
      "source": "# Case Study 4.1 - Movies"
    },
    {
      "metadata": {},
      "cell_type": "markdown",
      "source": "<h1 style=\"color:red;\">Note: If you close this notebook at any time, you will have to run all cells again upon re-opening it.</h1>\n\n<h1 style=\"color:red;\">Note: You may get different numerical results running the notebook different times. This is to be expected, you can just report whatever results you get.</h1>"
    },
    {
      "metadata": {},
      "cell_type": "markdown",
      "source": "# BEGINNER PYTHON"
    },
    {
      "metadata": {},
      "cell_type": "markdown",
      "source": "As this is a beginner version, we include a lot of code here to help you along the way.\n\n**First, fill in your identification information below. Then, you only have to type in the answers to the questions we ask you. For the rest of the cells, just Run them by pressing the \"Run\" button above.**"
    },
    {
      "metadata": {},
      "cell_type": "markdown",
      "source": "# Identification Information"
    },
    {
      "metadata": {
        "trusted": true
      },
      "cell_type": "code",
      "source": "# YOUR NAME              = ...\n# YOUR MITX PRO USERNAME = ...\n# YOUR MITX PRO E-MAIL   = ...",
      "execution_count": null,
      "outputs": []
    },
    {
      "metadata": {},
      "cell_type": "markdown",
      "source": "# Setup"
    },
    {
      "metadata": {},
      "cell_type": "markdown",
      "source": "Run these cells to install all the packages you need to complete the remainder of the case study. This may take a few minutes, so please be patient."
    },
    {
      "metadata": {
        "trusted": true
      },
      "cell_type": "code",
      "source": "!pip install --upgrade pip\n!pip install surprise==0.1",
      "execution_count": null,
      "outputs": []
    },
    {
      "metadata": {},
      "cell_type": "markdown",
      "source": "If you do not see any red text, then the install was successful. Yellow text is just warnings, not errors."
    },
    {
      "metadata": {},
      "cell_type": "markdown",
      "source": "Now, you must press **Kernel > Restart.** This allows the installation to take effect. Once you see the blue **Connected/Kernel ready** button in the top right, you are good to go. If you don't see that blue indicator, then your kernel may not be working properly. If this happens, try saving your work, closing the notebook and re-opening it."
    },
    {
      "metadata": {},
      "cell_type": "markdown",
      "source": "# Import"
    },
    {
      "metadata": {},
      "cell_type": "markdown",
      "source": "Import the required tools into the notebook."
    },
    {
      "metadata": {
        "trusted": true
      },
      "cell_type": "code",
      "source": "import pandas as pd\nimport matplotlib\nfrom surprise import Dataset, SVD, NormalPredictor, BaselineOnly, KNNBasic, NMF\nfrom surprise.model_selection import cross_validate, KFold\n%matplotlib inline\nprint('\\n\\nImports successful!')",
      "execution_count": null,
      "outputs": []
    },
    {
      "metadata": {},
      "cell_type": "markdown",
      "source": "# Data"
    },
    {
      "metadata": {},
      "cell_type": "markdown",
      "source": "Load the MovieLens data. A dialog may pop up saying **\"Dataset ml-100k could not be found. Do you want to download it? [Y/n]\"** Type Y and hit Enter to start the download process."
    },
    {
      "metadata": {
        "trusted": true
      },
      "cell_type": "code",
      "source": "data = Dataset.load_builtin('ml-100k')\nprint('\\n\\nData load successful!')",
      "execution_count": null,
      "outputs": []
    },
    {
      "metadata": {},
      "cell_type": "markdown",
      "source": "We also want to get a sense of what the data looks like. Let's create a histogram of all the ratings we have in the dataset."
    },
    {
      "metadata": {
        "trusted": true
      },
      "cell_type": "code",
      "source": "# 1. Get the ratings file from the data object\n# This is just a filename that has all the data stored in it\nratings_file = data.ratings_file\n\n# 2. Load that table using pandas, a commmon python data loading tool\n# We set the column names manually here\ncol_names = ['user_id', 'item_id', 'rating', 'timestamp']\nraw_data = pd.read_table(ratings_file, names=col_names)\n\n# 3. Get the rating column\nratings = raw_data.rating\n\n# 4. Generate a bar plot/histogram of that data\nratings.value_counts().sort_index().plot.bar()\n\nprint('\\n\\nHistogram generation successful!')",
      "execution_count": null,
      "outputs": []
    },
    {
      "metadata": {},
      "cell_type": "markdown",
      "source": "<h1 style=\"color:red;\">QUESTION 1: DATA ANALYSIS</h1>"
    },
    {
      "metadata": {},
      "cell_type": "markdown",
      "source": "**Describe the dataset. How many ratings are in the dataset? How would you describe the distribution of ratings? Is there anything else we should observe? Make sure the histogram is visible in the notebook.**"
    },
    {
      "metadata": {},
      "cell_type": "markdown",
      "source": "*Type your response here...*"
    },
    {
      "metadata": {},
      "cell_type": "markdown",
      "source": "# Model 1: Random"
    },
    {
      "metadata": {
        "trusted": true
      },
      "cell_type": "code",
      "source": "# Create model object\nmodel_random = NormalPredictor()\nprint('\\n\\nModel creation successful!')",
      "execution_count": null,
      "outputs": []
    },
    {
      "metadata": {
        "trusted": true
      },
      "cell_type": "code",
      "source": "# Train on data using cross-validation with k=5 folds, measuring the RMSE\nmodel_random_results = cross_validate(model_random, data, measures=['RMSE'], cv=5, verbose=True)\nprint('\\n\\nModel training successful!')",
      "execution_count": null,
      "outputs": []
    },
    {
      "metadata": {},
      "cell_type": "markdown",
      "source": "# Model 2: User-Based Collaborative Filtering"
    },
    {
      "metadata": {
        "trusted": true
      },
      "cell_type": "code",
      "source": "# Create model object\nmodel_user = KNNBasic(sim_options={'user_based': True})\nprint('\\n\\nModel creation successful!')",
      "execution_count": null,
      "outputs": []
    },
    {
      "metadata": {
        "trusted": true
      },
      "cell_type": "code",
      "source": "# Train on data using cross-validation with k=5 folds, measuring the RMSE\n# Note, this may have a lot of print output\n# You can set verbose=False to prevent this from happening\nmodel_user_results = cross_validate(model_user, data, measures=['RMSE'], cv=5, verbose=True)\nprint('\\n\\nModel training successful!')",
      "execution_count": null,
      "outputs": []
    },
    {
      "metadata": {},
      "cell_type": "markdown",
      "source": "# Model 3: Item-Based Collaborative Filtering"
    },
    {
      "metadata": {
        "trusted": true
      },
      "cell_type": "code",
      "source": "# Create model object\nmodel_item = KNNBasic(sim_options={'user_based': False})\nprint('\\n\\nModel creation successful!')",
      "execution_count": null,
      "outputs": []
    },
    {
      "metadata": {
        "trusted": true
      },
      "cell_type": "code",
      "source": "# Train on data using cross-validation with k=5 folds, measuring the RMSE\n# Note, this may have a lot of print output\n# You can set verbose=False to prevent this from happening\nmodel_item_results = cross_validate(model_item, data, measures=['RMSE'], cv=5, verbose=True)\nprint('\\n\\nModel training successful!')",
      "execution_count": null,
      "outputs": []
    },
    {
      "metadata": {},
      "cell_type": "markdown",
      "source": "<h1 style=\"color:red;\">QUESTION 2: COLLABORATIVE FILTERING MODELS</h1>"
    },
    {
      "metadata": {},
      "cell_type": "markdown",
      "source": "**Compare the results from the user-user and item-item models. How do they compare to each other? How do they compare to our original \"random\" model? Can you provide any intuition as to why the results came out the way they did?**"
    },
    {
      "metadata": {},
      "cell_type": "markdown",
      "source": "*Type your response here...*"
    },
    {
      "metadata": {},
      "cell_type": "markdown",
      "source": "# Model 4: Matrix Factorization"
    },
    {
      "metadata": {
        "trusted": true
      },
      "cell_type": "code",
      "source": "# Create model object\nmodel_matrix = SVD()\nprint('\\n\\nModel creation successful!')",
      "execution_count": null,
      "outputs": []
    },
    {
      "metadata": {
        "trusted": true
      },
      "cell_type": "code",
      "source": "# Train on data using cross-validation with k=5 folds, measuring the RMSE\n# Note, this may take some time (2-3 minutes) to train, so please be patient\nmodel_matrix_results = cross_validate(model_matrix, data, measures=['RMSE'], cv=5, verbose=True)\nprint('\\n\\nModel training successful!')",
      "execution_count": null,
      "outputs": []
    },
    {
      "metadata": {},
      "cell_type": "markdown",
      "source": "<h1 style=\"color:red;\">QUESTION 3: MATRIX FACTORIZATION MODEL</h1>"
    },
    {
      "metadata": {},
      "cell_type": "markdown",
      "source": "**The matrix factorization model is different from the collaborative filtering models. Briefly describe this difference. Also, compare the RMSE again. Does it improve? Can you offer any reasoning as to why that might be?**"
    },
    {
      "metadata": {},
      "cell_type": "markdown",
      "source": "*Type your response here...*"
    },
    {
      "metadata": {},
      "cell_type": "markdown",
      "source": "# Precision and Recall @ `k`"
    },
    {
      "metadata": {},
      "cell_type": "markdown",
      "source": "We now want to compute the precision and recall for 2 values of `k`: 5 and 10. We have provided some code here to help you do that."
    },
    {
      "metadata": {},
      "cell_type": "markdown",
      "source": "First, we define a function that takes in some predictions, a value of `k` and a threshold parameter. This code is adapted from [here](http://surprise.readthedocs.io/en/stable/FAQ.html?highlight=precision#how-to-compute-precision-k-and-recall-k). **Make sure you run this cell.**"
    },
    {
      "metadata": {
        "trusted": true
      },
      "cell_type": "code",
      "source": "def precision_recall_at_k(predictions, k=10, threshold=3.5):\n    '''Return precision and recall at k metrics for each user.'''\n\n    # First map the predictions to each user.\n    user_est_true = dict()\n    for uid, _, true_r, est, _ in predictions:\n        current = user_est_true.get(uid, list())\n        current.append((est, true_r))\n        user_est_true[uid] = current\n\n    precisions = dict()\n    recalls = dict()\n    for uid, user_ratings in user_est_true.items():\n\n        # Sort user ratings by estimated value\n        user_ratings.sort(key=lambda x: x[0], reverse=True)\n\n        # Number of relevant items\n        n_rel = sum((true_r >= threshold) for (_, true_r) in user_ratings)\n\n        # Number of recommended items in top k\n        n_rec_k = sum((est >= threshold) for (est, _) in user_ratings[:k])\n\n        # Number of relevant and recommended items in top k\n        n_rel_and_rec_k = sum(((true_r >= threshold) and (est >= threshold))\n                              for (est, true_r) in user_ratings[:k])\n\n        # Precision@K: Proportion of recommended items that are relevant\n        precisions[uid] = n_rel_and_rec_k / n_rec_k if n_rec_k != 0 else 1\n\n        # Recall@K: Proportion of relevant items that are recommended\n        recalls[uid] = n_rel_and_rec_k / n_rel if n_rel != 0 else 1\n\n    return precisions, recalls\n\nprint('\\n\\nFunction creation successful!')",
      "execution_count": null,
      "outputs": []
    },
    {
      "metadata": {},
      "cell_type": "markdown",
      "source": "Next, we compute the precision and recall at `k` = 5 and 10 for each of our 4 models. We use 5-fold cross validation again to average the results across the entire dataseat.\n\nPlease note that this will take some time to compute."
    },
    {
      "metadata": {},
      "cell_type": "markdown",
      "source": "<h1 style=\"color:red;\">QUESTION 4: PRECISION/RECALL</h1>"
    },
    {
      "metadata": {},
      "cell_type": "markdown",
      "source": "**Compute the precision and recall, for each of the 4 models, at `k` = 5 and 10. This is 2 x 2 x 4 = 16 numerical values. Do you note anything interesting about these values? Anything differerent from the RMSE values you computed above?**"
    },
    {
      "metadata": {},
      "cell_type": "markdown",
      "source": "*Type your response here...*"
    },
    {
      "metadata": {
        "trusted": true
      },
      "cell_type": "code",
      "source": "# Make list of k values\nK = [5, 10]\n\n# Make list of models\nmodels = [model_random, model_user, model_item, model_matrix]\n\n# Create k-fold cross validation object\nkf = KFold(n_splits=5)\n\nfor k in K:\n    for model in models:\n        print(f'>>> k={k}, model={model.__class__.__name__}')\n        # Run folder and take average\n        p = []\n        r = []\n        for trainset, testset in kf.split(data):\n            model.fit(trainset)\n            predictions = model.test(testset, verbose=False)\n            precisions, recalls = precision_recall_at_k(predictions, k=k, threshold=3.5)\n\n            # Precision and recall can then be averaged over all users\n            p.append(sum(prec for prec in precisions.values()) / len(precisions))\n            r.append(sum(rec for rec in recalls.values()) / len(recalls))\n        \n        print('>>> precision:', round(sum(p) / len(p), 3))\n        print('>>> reccall  :', round(sum(r) / len(r), 3))\n        print('\\n')\n\nprint('\\n\\nPrecision and recall computation successful!')",
      "execution_count": null,
      "outputs": []
    },
    {
      "metadata": {},
      "cell_type": "markdown",
      "source": "#  Top-`n` Predictions"
    },
    {
      "metadata": {},
      "cell_type": "markdown",
      "source": "Finally, we can see what some of the actual movie ratings are for particular users, as outputs of our model."
    },
    {
      "metadata": {},
      "cell_type": "markdown",
      "source": "Again, we define a helpful function."
    },
    {
      "metadata": {
        "trusted": true
      },
      "cell_type": "code",
      "source": "def get_top_n(predictions, n=5):\n    '''Return the top-N recommendation for each user from a set of predictions.\n\n    Args:\n        predictions(list of Prediction objects): The list of predictions, as\n            returned by the test method of an algorithm.\n        n(int): The number of recommendation to output for each user. Default\n            is 10.\n\n    Returns:\n    A dict where keys are user (raw) ids and values are lists of tuples:\n        [(raw item id, rating estimation), ...] of size n.\n    '''\n\n    # First map the predictions to each user.\n    top_n = dict()\n    for uid, iid, true_r, est, _ in predictions:\n        current = top_n.get(uid, [])\n        current.append((iid, est))\n        top_n[uid] = current\n\n    # Then sort the predictions for each user and retrieve the k highest ones.\n    for uid, user_ratings in top_n.items():\n        user_ratings.sort(key=lambda x: x[1], reverse=True)\n        top_n[uid] = user_ratings[:n]\n\n    return top_n\n\nprint('Function creation successful!')",
      "execution_count": null,
      "outputs": []
    },
    {
      "metadata": {},
      "cell_type": "markdown",
      "source": "Then, we call this function on each of our models, first training on **all** the data we have available, then predicting on the remaining, missing data. We use `n`=5 here, but you can pick any reasonable value of `n` you would like.\n\nThis may take some time to compute, so be patient."
    },
    {
      "metadata": {
        "trusted": true
      },
      "cell_type": "code",
      "source": "trainset = data.build_full_trainset()\ntestset = trainset.build_anti_testset()\nprint('\\n\\nTrainset and testset creation successful!')",
      "execution_count": null,
      "outputs": []
    },
    {
      "metadata": {},
      "cell_type": "markdown",
      "source": "<h1 style=\"color:red;\">QUESTION 5: TOP N PREDICTIONS</h1>"
    },
    {
      "metadata": {},
      "cell_type": "markdown",
      "source": "**Do the top n predictions that you received make sense? What is the rating value (1-5) of these predictions? How could you use these predictions in the real-world if you were trying to build a generic content recommender system for a company?**"
    },
    {
      "metadata": {},
      "cell_type": "markdown",
      "source": "*Type your response here...*"
    },
    {
      "metadata": {
        "trusted": true
      },
      "cell_type": "code",
      "source": "for model in models:\n    model.fit(trainset)\n    predictions = model.test(testset)\n    top_n = get_top_n(predictions, n=5)\n    # Print the first one\n    user = list(top_n.keys())[0]\n    print(f'model: {model}, {user}: {top_n[user]}')\n\nprint('\\n\\nTop N computation successful!')",
      "execution_count": null,
      "outputs": []
    },
    {
      "metadata": {},
      "cell_type": "markdown",
      "source": "<hr>"
    },
    {
      "metadata": {},
      "cell_type": "markdown",
      "source": "Great job! Now, make sure you check out the **Conclusion** section of the [instruction manual](https://courses.edx.org/asset-v1:MITxPRO+DSx+2T2018+type@asset+block@4.1_instruction_manual.html) to wrap up this case study properly."
    }
  ],
  "metadata": {
    "kernelspec": {
      "name": "python36",
      "display_name": "Python 3.6",
      "language": "python"
    },
    "language_info": {
      "mimetype": "text/x-python",
      "nbconvert_exporter": "python",
      "name": "python",
      "pygments_lexer": "ipython3",
      "version": "3.6.6",
      "file_extension": ".py",
      "codemirror_mode": {
        "version": 3,
        "name": "ipython"
      }
    }
  },
  "nbformat": 4,
  "nbformat_minor": 2
}